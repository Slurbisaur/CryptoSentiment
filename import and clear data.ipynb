{
 "cells": [
  {
   "cell_type": "code",
   "execution_count": 1,
   "metadata": {},
   "outputs": [],
   "source": [
    "import pandas as pd\n",
    "import numpy as np\n",
    "import json"
   ]
  },
  {
   "cell_type": "code",
   "execution_count": null,
   "metadata": {},
   "outputs": [],
   "source": []
  },
  {
   "cell_type": "code",
   "execution_count": 2,
   "metadata": {},
   "outputs": [
    {
     "data": {
      "text/plain": [
       "'from wordcloud import WordCloud, STOPWORDS\\nfrom PIL import Image\\nfrom nltk.sentiment.vader import SentimentIntensityAnalyzer\\nfrom langdetect import detect\\nfrom nltk.stem import SnowballStemmer\\nfrom nltk.sentiment.vader import SentimentIntensityAnalyzer\\nfrom sklearn.feature_extraction.text import CountVectorizer'"
      ]
     },
     "execution_count": 2,
     "metadata": {},
     "output_type": "execute_result"
    }
   ],
   "source": [
    "#from textblob import TextBlob\n",
    "import sys\n",
    "import tweepy\n",
    "import matplotlib.pyplot as plt\n",
    "import pandas as pd\n",
    "import numpy as np\n",
    "import os\n",
    "import nltk\n",
    "import pycountry\n",
    "import re\n",
    "import string\n",
    "\n",
    "\n",
    "\n",
    "\"\"\"from wordcloud import WordCloud, STOPWORDS\n",
    "from PIL import Image\n",
    "from nltk.sentiment.vader import SentimentIntensityAnalyzer\n",
    "from langdetect import detect\n",
    "from nltk.stem import SnowballStemmer\n",
    "from nltk.sentiment.vader import SentimentIntensityAnalyzer\n",
    "from sklearn.feature_extraction.text import CountVectorizer\"\"\""
   ]
  },
  {
   "cell_type": "code",
   "execution_count": 3,
   "metadata": {},
   "outputs": [],
   "source": [
    "#einlesen der Daten\n",
    "data = pd.read_json(\"C:/Users/Kilian/Notebook/Bot/ML_4Semster/cryptodoge.json\", lines=True)\n",
    "df=data"
   ]
  },
  {
   "cell_type": "code",
   "execution_count": 4,
   "metadata": {},
   "outputs": [
    {
     "name": "stdout",
     "output_type": "stream",
     "text": [
      "(1007, 36)\n"
     ]
    }
   ],
   "source": [
    "#untersuchen der Größe des Datensatzes\n",
    "\n",
    "print(df.shape)"
   ]
  },
  {
   "cell_type": "code",
   "execution_count": 5,
   "metadata": {},
   "outputs": [
    {
     "name": "stdout",
     "output_type": "stream",
     "text": [
      "created_at\n",
      "id\n",
      "id_str\n",
      "text\n",
      "source\n",
      "truncated\n",
      "in_reply_to_status_id\n",
      "in_reply_to_status_id_str\n",
      "in_reply_to_user_id\n",
      "in_reply_to_user_id_str\n",
      "in_reply_to_screen_name\n",
      "user\n",
      "geo\n",
      "coordinates\n",
      "place\n",
      "contributors\n",
      "retweeted_status\n",
      "is_quote_status\n",
      "quote_count\n",
      "reply_count\n",
      "retweet_count\n",
      "favorite_count\n",
      "entities\n",
      "favorited\n",
      "retweeted\n",
      "filter_level\n",
      "lang\n",
      "timestamp_ms\n",
      "display_text_range\n",
      "extended_tweet\n",
      "possibly_sensitive\n",
      "quoted_status_id\n",
      "quoted_status_id_str\n",
      "quoted_status\n",
      "quoted_status_permalink\n",
      "extended_entities\n"
     ]
    }
   ],
   "source": [
    "#veranschaulischen der Spalten mehr Informationen dazu unter https://developer.twitter.com/en/docs/twitter-api/v1/data-dictionary/object-model/tweet\n",
    "for y in df.columns.tolist():\n",
    "    print(y)"
   ]
  },
  {
   "cell_type": "code",
   "execution_count": 6,
   "metadata": {},
   "outputs": [
    {
     "name": "stdout",
     "output_type": "stream",
     "text": [
      "0    RT @dailytice: 🎁 $100 IN BABYDOGE GIVEAWAY ALE...\n",
      "1    RT @CoinMarketCap: Bitcoin 'Could Collapse' El...\n",
      "2    @MattWallace888 Amen brother!\\n#dogecoin \\n#To...\n",
      "3    @BitcoinAssn The most powerful DOGE of them al...\n",
      "4    RT @RakuCoin: Rakucoin $RAKUC currently on ETH...\n",
      "Name: text, dtype: object\n"
     ]
    }
   ],
   "source": [
    "print(df.text.head())"
   ]
  },
  {
   "cell_type": "code",
   "execution_count": 15,
   "metadata": {},
   "outputs": [
    {
     "data": {
      "text/html": [
       "<div>\n",
       "<style scoped>\n",
       "    .dataframe tbody tr th:only-of-type {\n",
       "        vertical-align: middle;\n",
       "    }\n",
       "\n",
       "    .dataframe tbody tr th {\n",
       "        vertical-align: top;\n",
       "    }\n",
       "\n",
       "    .dataframe thead th {\n",
       "        text-align: right;\n",
       "    }\n",
       "</style>\n",
       "<table border=\"1\" class=\"dataframe\">\n",
       "  <thead>\n",
       "    <tr style=\"text-align: right;\">\n",
       "      <th></th>\n",
       "      <th>created_at</th>\n",
       "      <th>id</th>\n",
       "      <th>id_str</th>\n",
       "      <th>text</th>\n",
       "      <th>source</th>\n",
       "      <th>truncated</th>\n",
       "      <th>in_reply_to_status_id</th>\n",
       "      <th>in_reply_to_status_id_str</th>\n",
       "      <th>in_reply_to_user_id</th>\n",
       "      <th>in_reply_to_user_id_str</th>\n",
       "      <th>...</th>\n",
       "      <th>lang</th>\n",
       "      <th>timestamp_ms</th>\n",
       "      <th>display_text_range</th>\n",
       "      <th>extended_tweet</th>\n",
       "      <th>possibly_sensitive</th>\n",
       "      <th>quoted_status_id</th>\n",
       "      <th>quoted_status_id_str</th>\n",
       "      <th>quoted_status</th>\n",
       "      <th>quoted_status_permalink</th>\n",
       "      <th>extended_entities</th>\n",
       "    </tr>\n",
       "  </thead>\n",
       "  <tbody>\n",
       "    <tr>\n",
       "      <th>0</th>\n",
       "      <td>2021-06-28 16:25:33+00:00</td>\n",
       "      <td>1409548535272407047</td>\n",
       "      <td>1409548535272407040</td>\n",
       "      <td>🎁 $100 in babydoge giveaway alert 🎁  💰to ente...</td>\n",
       "      <td>&lt;a href=\"http://twitter.com/download/android\" ...</td>\n",
       "      <td>False</td>\n",
       "      <td>NaN</td>\n",
       "      <td>NaN</td>\n",
       "      <td>NaN</td>\n",
       "      <td>NaN</td>\n",
       "      <td>...</td>\n",
       "      <td>en</td>\n",
       "      <td>2021-06-28 16:25:33.611</td>\n",
       "      <td>NaN</td>\n",
       "      <td>NaN</td>\n",
       "      <td>NaN</td>\n",
       "      <td>NaN</td>\n",
       "      <td>NaN</td>\n",
       "      <td>NaN</td>\n",
       "      <td>NaN</td>\n",
       "      <td>NaN</td>\n",
       "    </tr>\n",
       "    <tr>\n",
       "      <th>1</th>\n",
       "      <td>2021-06-28 16:25:33+00:00</td>\n",
       "      <td>1409548536740552712</td>\n",
       "      <td>1409548536740552704</td>\n",
       "      <td>bitcoin  could collapse  el salvador s econom...</td>\n",
       "      <td>&lt;a href=\"http://twitter.com/download/android\" ...</td>\n",
       "      <td>False</td>\n",
       "      <td>NaN</td>\n",
       "      <td>NaN</td>\n",
       "      <td>NaN</td>\n",
       "      <td>NaN</td>\n",
       "      <td>...</td>\n",
       "      <td>en</td>\n",
       "      <td>2021-06-28 16:25:33.961</td>\n",
       "      <td>NaN</td>\n",
       "      <td>NaN</td>\n",
       "      <td>NaN</td>\n",
       "      <td>NaN</td>\n",
       "      <td>NaN</td>\n",
       "      <td>NaN</td>\n",
       "      <td>NaN</td>\n",
       "      <td>NaN</td>\n",
       "    </tr>\n",
       "    <tr>\n",
       "      <th>2</th>\n",
       "      <td>2021-06-28 16:25:34+00:00</td>\n",
       "      <td>1409548538988609537</td>\n",
       "      <td>1409548538988609536</td>\n",
       "      <td>888 amen brother! #dogecoin  #tothemoon</td>\n",
       "      <td>&lt;a href=\"http://twitter.com/download/android\" ...</td>\n",
       "      <td>False</td>\n",
       "      <td>1.409546e+18</td>\n",
       "      <td>1.409546e+18</td>\n",
       "      <td>8.055323e+17</td>\n",
       "      <td>8.055323e+17</td>\n",
       "      <td>...</td>\n",
       "      <td>en</td>\n",
       "      <td>2021-06-28 16:25:34.497</td>\n",
       "      <td>[16, 51]</td>\n",
       "      <td>NaN</td>\n",
       "      <td>NaN</td>\n",
       "      <td>NaN</td>\n",
       "      <td>NaN</td>\n",
       "      <td>NaN</td>\n",
       "      <td>NaN</td>\n",
       "      <td>NaN</td>\n",
       "    </tr>\n",
       "  </tbody>\n",
       "</table>\n",
       "<p>3 rows × 36 columns</p>\n",
       "</div>"
      ],
      "text/plain": [
       "                 created_at                   id               id_str  \\\n",
       "0 2021-06-28 16:25:33+00:00  1409548535272407047  1409548535272407040   \n",
       "1 2021-06-28 16:25:33+00:00  1409548536740552712  1409548536740552704   \n",
       "2 2021-06-28 16:25:34+00:00  1409548538988609537  1409548538988609536   \n",
       "\n",
       "                                                text  \\\n",
       "0   🎁 $100 in babydoge giveaway alert 🎁  💰to ente...   \n",
       "1   bitcoin  could collapse  el salvador s econom...   \n",
       "2            888 amen brother! #dogecoin  #tothemoon   \n",
       "\n",
       "                                              source  truncated  \\\n",
       "0  <a href=\"http://twitter.com/download/android\" ...      False   \n",
       "1  <a href=\"http://twitter.com/download/android\" ...      False   \n",
       "2  <a href=\"http://twitter.com/download/android\" ...      False   \n",
       "\n",
       "   in_reply_to_status_id  in_reply_to_status_id_str  in_reply_to_user_id  \\\n",
       "0                    NaN                        NaN                  NaN   \n",
       "1                    NaN                        NaN                  NaN   \n",
       "2           1.409546e+18               1.409546e+18         8.055323e+17   \n",
       "\n",
       "   in_reply_to_user_id_str  ... lang            timestamp_ms  \\\n",
       "0                      NaN  ...   en 2021-06-28 16:25:33.611   \n",
       "1                      NaN  ...   en 2021-06-28 16:25:33.961   \n",
       "2             8.055323e+17  ...   en 2021-06-28 16:25:34.497   \n",
       "\n",
       "   display_text_range  extended_tweet  possibly_sensitive  quoted_status_id  \\\n",
       "0                 NaN             NaN                 NaN               NaN   \n",
       "1                 NaN             NaN                 NaN               NaN   \n",
       "2            [16, 51]             NaN                 NaN               NaN   \n",
       "\n",
       "  quoted_status_id_str  quoted_status  quoted_status_permalink  \\\n",
       "0                  NaN            NaN                      NaN   \n",
       "1                  NaN            NaN                      NaN   \n",
       "2                  NaN            NaN                      NaN   \n",
       "\n",
       "   extended_entities  \n",
       "0                NaN  \n",
       "1                NaN  \n",
       "2                NaN  \n",
       "\n",
       "[3 rows x 36 columns]"
      ]
     },
     "execution_count": 15,
     "metadata": {},
     "output_type": "execute_result"
    }
   ],
   "source": [
    "df.head(3)"
   ]
  },
  {
   "cell_type": "code",
   "execution_count": 8,
   "metadata": {},
   "outputs": [],
   "source": [
    "#Breeinigen der Teweets"
   ]
  },
  {
   "cell_type": "code",
   "execution_count": 9,
   "metadata": {},
   "outputs": [],
   "source": [
    "#df['created_at'] =  pd.to_datetime(df['created_at'], format='%Y-%m-%d')"
   ]
  },
  {
   "cell_type": "code",
   "execution_count": 10,
   "metadata": {},
   "outputs": [],
   "source": []
  },
  {
   "cell_type": "code",
   "execution_count": 11,
   "metadata": {},
   "outputs": [
    {
     "data": {
      "text/plain": [
       "0     🎁 $100 in babydoge giveaway alert 🎁  💰to ente...\n",
       "1     bitcoin  could collapse  el salvador s econom...\n",
       "2              888 amen brother! #dogecoin  #tothemoon\n",
       "3      the most powerful doge of them all is about ...\n",
       "4     rakucoin $rakuc currently on eth and just lau...\n",
       "5               🔰website:   🔰telegram:   🎯high farm…  \n",
       "6     we’re giving away 30,250,000 $kishu #cryptone...\n",
       "7     yo #dogefather   the #dogearmy and i would li...\n",
       "8     here are last week s top 10 trending tokens i...\n",
       "9     rakucoin $rakuc currently on eth and just lau...\n",
       "Name: text, dtype: object"
      ]
     },
     "execution_count": 11,
     "metadata": {},
     "output_type": "execute_result"
    }
   ],
   "source": [
    "#bereinigen der Tweets\n",
    "remove_rt = lambda x: re.sub(\"(RT @\\w+: )|(@\\w+):\",\" \",x)\n",
    "rt = lambda x: re.sub(\"(@[A-Za-z0–9]+)|(\\w+:\\/\\/\\S+)|(\\n|\\t|\\')\",\" \",x)\n",
    "\n",
    "\n",
    "df[\"text\"] = df.text.map(remove_rt).map(rt)\n",
    "df[\"text\"] = df.text.str.lower()\n",
    "df.text.head(10)"
   ]
  },
  {
   "cell_type": "code",
   "execution_count": 20,
   "metadata": {},
   "outputs": [
    {
     "data": {
      "text/plain": [
       "0      $100 in babydoge giveaway alert   to enter r...\n",
       "1     bitcoin  could collapse  el salvador s econom...\n",
       "2              888 amen brother! #dogecoin  #tothemoon\n",
       "3      the most powerful doge of them all is about ...\n",
       "4     rakucoin $rakuc currently on eth and just lau...\n",
       "Name: text, dtype: object"
      ]
     },
     "execution_count": 20,
     "metadata": {},
     "output_type": "execute_result"
    }
   ],
   "source": [
    "#bereinigen des textes von den Emojis\n",
    "def deEmojify(text):\n",
    "    regrex_pattern = re.compile(\"[\"\n",
    "                           u\"\\U0001F600-\\U0001F64F\"  # emoticons\n",
    "                           u\"\\U0001F300-\\U0001F5FF\"  # symbols & pictographs\n",
    "                           u\"\\U0001F680-\\U0001F6FF\"  # transport & map symbols\n",
    "                           u\"\\U0001F1E0-\\U0001F1FF\"  # flags (iOS)\n",
    "                           u\"\\U00002702-\\U000027B0\"\n",
    "                           u\"\\U000024C2-\\U0001F251\"\n",
    "                           \"]+\", flags=re.UNICODE)\n",
    "    return regrex_pattern.sub(r'',text)\n",
    "\n",
    "df[\"text\"] = df.text.map(deEmojify)\n",
    "\n",
    "df.text.head(5)"
   ]
  },
  {
   "cell_type": "code",
   "execution_count": 48,
   "metadata": {},
   "outputs": [
    {
     "name": "stdout",
     "output_type": "stream",
     "text": [
      "0     🎁 $100 in babydoge giveaway alert 🎁  💰to ente...\n",
      "1     bitcoin  could collapse  el salvador s econom...\n",
      "2              888 amen brother! #dogecoin  #tothemoon\n",
      "3      the most powerful doge of them all is about ...\n",
      "4     rakucoin $rakuc currently on eth and just lau...\n",
      "Name: text, dtype: object\n"
     ]
    }
   ],
   "source": []
  },
  {
   "cell_type": "code",
   "execution_count": 54,
   "metadata": {},
   "outputs": [
    {
     "data": {
      "text/plain": [
       "'  $100 in babydoge giveaway alert   to enter retweet &amp; follow!  ⏱ 24 hours only!⏱   ticeans, it’s the dailytice monday gi…'"
      ]
     },
     "execution_count": 54,
     "metadata": {},
     "output_type": "execute_result"
    }
   ],
   "source": [
    "\n"
   ]
  },
  {
   "cell_type": "code",
   "execution_count": null,
   "metadata": {},
   "outputs": [],
   "source": []
  },
  {
   "cell_type": "code",
   "execution_count": null,
   "metadata": {},
   "outputs": [],
   "source": []
  }
 ],
 "metadata": {
  "kernelspec": {
   "display_name": "Python 3",
   "language": "python",
   "name": "python3"
  },
  "language_info": {
   "codemirror_mode": {
    "name": "ipython",
    "version": 3
   },
   "file_extension": ".py",
   "mimetype": "text/x-python",
   "name": "python",
   "nbconvert_exporter": "python",
   "pygments_lexer": "ipython3",
   "version": "3.7.7"
  }
 },
 "nbformat": 4,
 "nbformat_minor": 4
}
