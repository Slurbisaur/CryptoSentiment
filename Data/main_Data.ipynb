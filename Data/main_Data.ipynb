{
 "cells": [
  {
   "cell_type": "code",
   "execution_count": 3,
   "metadata": {},
   "outputs": [
    {
     "name": "stderr",
     "output_type": "stream",
     "text": [
      "[nltk_data] Downloading package vader_lexicon to\n",
      "[nltk_data]     /home/miguel/nltk_data...\n",
      "[nltk_data]   Package vader_lexicon is already up-to-date!\n",
      "[nltk_data] Downloading package twitter_samples to\n",
      "[nltk_data]     /home/miguel/nltk_data...\n",
      "[nltk_data]   Package twitter_samples is already up-to-date!\n",
      "[nltk_data] Downloading package punkt to /home/miguel/nltk_data...\n",
      "[nltk_data]   Package punkt is already up-to-date!\n"
     ]
    }
   ],
   "source": [
    "\n",
    "import sys\n",
    "import tweepy\n",
    "import matplotlib.pyplot as plt\n",
    "import pandas as pd\n",
    "import numpy as np\n",
    "import os\n",
    "import nltk\n",
    "import pycountry\n",
    "import re\n",
    "import string\n",
    "import json\n",
    "nltk.download('vader_lexicon')\n",
    "nltk.download('twitter_samples')\n",
    "nltk.download('punkt')\n",
    "import seaborn as sns\n",
    "\n",
    "#importieren der Trainigsdaten---nltk stellt tweets dafür bereit\n",
    "from nltk.corpus import twitter_samples"
   ]
  },
  {
   "cell_type": "code",
   "execution_count": 4,
   "metadata": {},
   "outputs": [
    {
     "name": "stdout",
     "output_type": "stream",
     "text": [
      "[{'contributors': None, 'coordinates': None, 'text': 'hopeless for tmr :(', 'user': {'screen_name': 'yuwraxkim', 'time_zone': 'Jakarta', 'profile_background_image_url': 'http://pbs.twimg.com/profile_background_images/585476378365014016/j1mvQu3c.png', 'profile_background_image_url_https': 'https://pbs.twimg.com/profile_background_images/585476378365014016/j1mvQu3c.png', 'default_profile_image': False, 'url': None, 'profile_text_color': '000000', 'following': False, 'listed_count': 3, 'entities': {'description': {'urls': []}}, 'utc_offset': 25200, 'profile_sidebar_border_color': '000000', 'name': 'yuwra ✈ ', 'favourites_count': 196, 'followers_count': 1281, 'location': 'wearegsd;favor;pucukfams;barbx', 'protected': False, 'notifications': False, 'profile_image_url_https': 'https://pbs.twimg.com/profile_images/622631732399898624/kmYsX_k1_normal.jpg', 'profile_use_background_image': True, 'profile_image_url': 'http://pbs.twimg.com/profile_images/622631732399898624/kmYsX_k1_normal.jpg', 'lang': 'id', 'statuses_count': 19710, 'friends_count': 1264, 'profile_banner_url': 'https://pbs.twimg.com/profile_banners/3078803375/1433287528', 'geo_enabled': True, 'is_translator': False, 'contributors_enabled': False, 'profile_sidebar_fill_color': '000000', 'created_at': 'Sun Mar 08 05:43:40 +0000 2015', 'verified': False, 'profile_link_color': '000000', 'is_translation_enabled': False, 'has_extended_profile': False, 'id_str': '3078803375', 'follow_request_sent': False, 'profile_background_color': '000000', 'default_profile': False, 'profile_background_tile': True, 'id': 3078803375, 'description': '⇨ [V] TravelGency █ 2/4 Goddest from Girls Day █ 92L █ sucrp'}, 'retweet_count': 0, 'favorited': False, 'entities': {'hashtags': [], 'user_mentions': [], 'urls': [], 'symbols': []}, 'source': '<a href=\"https://mobile.twitter.com\" rel=\"nofollow\">Mobile Web (M2)</a>', 'truncated': False, 'geo': None, 'in_reply_to_status_id_str': None, 'is_quote_status': False, 'in_reply_to_user_id_str': None, 'place': None, 'in_reply_to_status_id': None, 'in_reply_to_screen_name': None, 'lang': 'en', 'retweeted': False, 'in_reply_to_user_id': None, 'created_at': 'Fri Jul 24 10:42:49 +0000 2015', 'metadata': {'iso_language_code': 'en', 'result_type': 'recent'}, 'favorite_count': 0, 'id_str': '624530164626534400', 'id': 624530164626534400}, {'contributors': None, 'coordinates': None, 'text': \"Everything in the kids section of IKEA is so cute. Shame I'm nearly 19 in 2 months :(\", 'user': {'screen_name': 'EveHollyHousley', 'time_zone': 'London', 'profile_background_image_url': 'http://pbs.twimg.com/profile_background_images/776873880/f89d8aa869414e41eefd804284a3d95c.jpeg', 'profile_background_image_url_https': 'https://pbs.twimg.com/profile_background_images/776873880/f89d8aa869414e41eefd804284a3d95c.jpeg', 'default_profile_image': False, 'url': None, 'profile_text_color': '333333', 'following': False, 'listed_count': 0, 'entities': {'description': {'urls': []}}, 'utc_offset': 3600, 'profile_sidebar_border_color': 'FFFFFF', 'name': 'Eve', 'favourites_count': 4759, 'followers_count': 450, 'location': 'Manchester', 'protected': False, 'notifications': False, 'profile_image_url_https': 'https://pbs.twimg.com/profile_images/620302844093181952/M7IP4ZHa_normal.jpg', 'profile_use_background_image': False, 'profile_image_url': 'http://pbs.twimg.com/profile_images/620302844093181952/M7IP4ZHa_normal.jpg', 'lang': 'en', 'statuses_count': 4384, 'friends_count': 541, 'profile_banner_url': 'https://pbs.twimg.com/profile_banners/383849833/1435267039', 'geo_enabled': True, 'is_translator': False, 'contributors_enabled': False, 'profile_sidebar_fill_color': 'DDEEF6', 'created_at': 'Sun Oct 02 16:42:30 +0000 2011', 'verified': False, 'profile_link_color': '0084B4', 'is_translation_enabled': False, 'has_extended_profile': False, 'id_str': '383849833', 'follow_request_sent': False, 'profile_background_color': 'C0DEED', 'default_profile': False, 'profile_background_tile': True, 'id': 383849833, 'description': 'Lauv it • 18 • Music Student'}, 'retweet_count': 0, 'favorited': False, 'entities': {'hashtags': [], 'user_mentions': [], 'urls': [], 'symbols': []}, 'source': '<a href=\"http://twitter.com/download/iphone\" rel=\"nofollow\">Twitter for iPhone</a>', 'truncated': False, 'geo': None, 'in_reply_to_status_id_str': None, 'is_quote_status': False, 'in_reply_to_user_id_str': None, 'place': None, 'in_reply_to_status_id': None, 'in_reply_to_screen_name': None, 'lang': 'en', 'retweeted': False, 'in_reply_to_user_id': None, 'created_at': 'Fri Jul 24 10:42:48 +0000 2015', 'metadata': {'iso_language_code': 'en', 'result_type': 'recent'}, 'favorite_count': 0, 'id_str': '624530162890219521', 'id': 624530162890219521}, ...]\n"
     ]
    }
   ],
   "source": [
    "pos_twee = twitter_samples.strings('positive_tweets.json')\n",
    "neg_twee = twitter_samples.strings('negative_tweets.json')\n",
    "text = twitter_samples.strings('tweets.20150430-223406.json')"
   ]
  },
  {
   "cell_type": "code",
   "execution_count": 5,
   "metadata": {},
   "outputs": [
    {
     "name": "stdout",
     "output_type": "stream",
     "text": [
      "#FollowFriday @France_Inte @PKuchly57 @Milipol_Paris for being top engaged members in my community this week :)\n"
     ]
    }
   ],
   "source": [
    "print(pos_twee[0])"
   ]
  },
  {
   "cell_type": "code",
   "execution_count": 6,
   "metadata": {},
   "outputs": [
    {
     "name": "stdout",
     "output_type": "stream",
     "text": [
      "20000\n",
      "5000\n",
      "5000\n"
     ]
    }
   ],
   "source": [
    "print(len(text))\n",
    "print(len(pos_twee))\n",
    "print(len(neg_twee))"
   ]
  },
  {
   "cell_type": "code",
   "execution_count": 7,
   "metadata": {},
   "outputs": [],
   "source": [
    "df = pd.DataFrame (pos_twee,columns=['text'])\n",
    "df['Value'] = 1\n",
    "df2 = pd.DataFrame (neg_twee,columns=['text'])\n",
    "df2['Value'] = -1"
   ]
  },
  {
   "cell_type": "code",
   "execution_count": 8,
   "metadata": {},
   "outputs": [
    {
     "data": {
      "text/html": [
       "<div>\n",
       "<style scoped>\n",
       "    .dataframe tbody tr th:only-of-type {\n",
       "        vertical-align: middle;\n",
       "    }\n",
       "\n",
       "    .dataframe tbody tr th {\n",
       "        vertical-align: top;\n",
       "    }\n",
       "\n",
       "    .dataframe thead th {\n",
       "        text-align: right;\n",
       "    }\n",
       "</style>\n",
       "<table border=\"1\" class=\"dataframe\">\n",
       "  <thead>\n",
       "    <tr style=\"text-align: right;\">\n",
       "      <th></th>\n",
       "      <th>text</th>\n",
       "      <th>Value</th>\n",
       "    </tr>\n",
       "  </thead>\n",
       "  <tbody>\n",
       "    <tr>\n",
       "      <th>0</th>\n",
       "      <td>#FollowFriday @France_Inte @PKuchly57 @Milipol...</td>\n",
       "      <td>1</td>\n",
       "    </tr>\n",
       "    <tr>\n",
       "      <th>1</th>\n",
       "      <td>@Lamb2ja Hey James! How odd :/ Please call our...</td>\n",
       "      <td>1</td>\n",
       "    </tr>\n",
       "    <tr>\n",
       "      <th>2</th>\n",
       "      <td>@DespiteOfficial we had a listen last night :)...</td>\n",
       "      <td>1</td>\n",
       "    </tr>\n",
       "    <tr>\n",
       "      <th>3</th>\n",
       "      <td>@97sides CONGRATS :)</td>\n",
       "      <td>1</td>\n",
       "    </tr>\n",
       "    <tr>\n",
       "      <th>4</th>\n",
       "      <td>yeaaaah yippppy!!!  my accnt verified rqst has...</td>\n",
       "      <td>1</td>\n",
       "    </tr>\n",
       "    <tr>\n",
       "      <th>...</th>\n",
       "      <td>...</td>\n",
       "      <td>...</td>\n",
       "    </tr>\n",
       "    <tr>\n",
       "      <th>4995</th>\n",
       "      <td>@chriswiggin3 Chris, that's great to hear :) D...</td>\n",
       "      <td>1</td>\n",
       "    </tr>\n",
       "    <tr>\n",
       "      <th>4996</th>\n",
       "      <td>@RachelLiskeard Thanks for the shout-out :) It...</td>\n",
       "      <td>1</td>\n",
       "    </tr>\n",
       "    <tr>\n",
       "      <th>4997</th>\n",
       "      <td>@side556 Hey!  :)  Long time no talk...</td>\n",
       "      <td>1</td>\n",
       "    </tr>\n",
       "    <tr>\n",
       "      <th>4998</th>\n",
       "      <td>@staybubbly69 as Matt would say. WELCOME TO AD...</td>\n",
       "      <td>1</td>\n",
       "    </tr>\n",
       "    <tr>\n",
       "      <th>4999</th>\n",
       "      <td>@DanielOConnel18 you could say he will have eg...</td>\n",
       "      <td>1</td>\n",
       "    </tr>\n",
       "  </tbody>\n",
       "</table>\n",
       "<p>5000 rows × 2 columns</p>\n",
       "</div>"
      ],
      "text/plain": [
       "                                                   text  Value\n",
       "0     #FollowFriday @France_Inte @PKuchly57 @Milipol...      1\n",
       "1     @Lamb2ja Hey James! How odd :/ Please call our...      1\n",
       "2     @DespiteOfficial we had a listen last night :)...      1\n",
       "3                                  @97sides CONGRATS :)      1\n",
       "4     yeaaaah yippppy!!!  my accnt verified rqst has...      1\n",
       "...                                                 ...    ...\n",
       "4995  @chriswiggin3 Chris, that's great to hear :) D...      1\n",
       "4996  @RachelLiskeard Thanks for the shout-out :) It...      1\n",
       "4997            @side556 Hey!  :)  Long time no talk...      1\n",
       "4998  @staybubbly69 as Matt would say. WELCOME TO AD...      1\n",
       "4999  @DanielOConnel18 you could say he will have eg...      1\n",
       "\n",
       "[5000 rows x 2 columns]"
      ]
     },
     "execution_count": 8,
     "metadata": {},
     "output_type": "execute_result"
    }
   ],
   "source": [
    "df"
   ]
  },
  {
   "cell_type": "code",
   "execution_count": 9,
   "metadata": {},
   "outputs": [
    {
     "data": {
      "text/html": [
       "<div>\n",
       "<style scoped>\n",
       "    .dataframe tbody tr th:only-of-type {\n",
       "        vertical-align: middle;\n",
       "    }\n",
       "\n",
       "    .dataframe tbody tr th {\n",
       "        vertical-align: top;\n",
       "    }\n",
       "\n",
       "    .dataframe thead th {\n",
       "        text-align: right;\n",
       "    }\n",
       "</style>\n",
       "<table border=\"1\" class=\"dataframe\">\n",
       "  <thead>\n",
       "    <tr style=\"text-align: right;\">\n",
       "      <th></th>\n",
       "      <th>text</th>\n",
       "      <th>Value</th>\n",
       "    </tr>\n",
       "  </thead>\n",
       "  <tbody>\n",
       "    <tr>\n",
       "      <th>0</th>\n",
       "      <td>hopeless for tmr :(</td>\n",
       "      <td>-1</td>\n",
       "    </tr>\n",
       "    <tr>\n",
       "      <th>1</th>\n",
       "      <td>Everything in the kids section of IKEA is so c...</td>\n",
       "      <td>-1</td>\n",
       "    </tr>\n",
       "    <tr>\n",
       "      <th>2</th>\n",
       "      <td>@Hegelbon That heart sliding into the waste ba...</td>\n",
       "      <td>-1</td>\n",
       "    </tr>\n",
       "    <tr>\n",
       "      <th>3</th>\n",
       "      <td>“@ketchBurning: I hate Japanese call him \"bani...</td>\n",
       "      <td>-1</td>\n",
       "    </tr>\n",
       "    <tr>\n",
       "      <th>4</th>\n",
       "      <td>Dang starting next week I have \"work\" :(</td>\n",
       "      <td>-1</td>\n",
       "    </tr>\n",
       "    <tr>\n",
       "      <th>...</th>\n",
       "      <td>...</td>\n",
       "      <td>...</td>\n",
       "    </tr>\n",
       "    <tr>\n",
       "      <th>4995</th>\n",
       "      <td>I wanna change my avi but uSanele :(</td>\n",
       "      <td>-1</td>\n",
       "    </tr>\n",
       "    <tr>\n",
       "      <th>4996</th>\n",
       "      <td>MY PUPPY BROKE HER FOOT :(</td>\n",
       "      <td>-1</td>\n",
       "    </tr>\n",
       "    <tr>\n",
       "      <th>4997</th>\n",
       "      <td>where's all the jaebum baby pictures :((</td>\n",
       "      <td>-1</td>\n",
       "    </tr>\n",
       "    <tr>\n",
       "      <th>4998</th>\n",
       "      <td>But but Mr Ahmad Maslan cooks too :( https://t...</td>\n",
       "      <td>-1</td>\n",
       "    </tr>\n",
       "    <tr>\n",
       "      <th>4999</th>\n",
       "      <td>@eawoman As a Hull supporter I am expecting a ...</td>\n",
       "      <td>-1</td>\n",
       "    </tr>\n",
       "  </tbody>\n",
       "</table>\n",
       "<p>5000 rows × 2 columns</p>\n",
       "</div>"
      ],
      "text/plain": [
       "                                                   text  Value\n",
       "0                                   hopeless for tmr :(     -1\n",
       "1     Everything in the kids section of IKEA is so c...     -1\n",
       "2     @Hegelbon That heart sliding into the waste ba...     -1\n",
       "3     “@ketchBurning: I hate Japanese call him \"bani...     -1\n",
       "4              Dang starting next week I have \"work\" :(     -1\n",
       "...                                                 ...    ...\n",
       "4995               I wanna change my avi but uSanele :(     -1\n",
       "4996                         MY PUPPY BROKE HER FOOT :(     -1\n",
       "4997           where's all the jaebum baby pictures :((     -1\n",
       "4998  But but Mr Ahmad Maslan cooks too :( https://t...     -1\n",
       "4999  @eawoman As a Hull supporter I am expecting a ...     -1\n",
       "\n",
       "[5000 rows x 2 columns]"
      ]
     },
     "execution_count": 9,
     "metadata": {},
     "output_type": "execute_result"
    }
   ],
   "source": [
    "df2"
   ]
  },
  {
   "cell_type": "code",
   "execution_count": 10,
   "metadata": {},
   "outputs": [],
   "source": [
    "df=df.append(df2, ignore_index = True)"
   ]
  },
  {
   "cell_type": "code",
   "execution_count": 11,
   "metadata": {},
   "outputs": [],
   "source": [
    "df = df.sample(frac=1).reset_index(drop=True) #msichen der positiven und negativen tweets\n"
   ]
  },
  {
   "cell_type": "code",
   "execution_count": 12,
   "metadata": {},
   "outputs": [
    {
     "data": {
      "text/html": [
       "<div>\n",
       "<style scoped>\n",
       "    .dataframe tbody tr th:only-of-type {\n",
       "        vertical-align: middle;\n",
       "    }\n",
       "\n",
       "    .dataframe tbody tr th {\n",
       "        vertical-align: top;\n",
       "    }\n",
       "\n",
       "    .dataframe thead th {\n",
       "        text-align: right;\n",
       "    }\n",
       "</style>\n",
       "<table border=\"1\" class=\"dataframe\">\n",
       "  <thead>\n",
       "    <tr style=\"text-align: right;\">\n",
       "      <th></th>\n",
       "      <th>text</th>\n",
       "      <th>Value</th>\n",
       "    </tr>\n",
       "  </thead>\n",
       "  <tbody>\n",
       "    <tr>\n",
       "      <th>0</th>\n",
       "      <td>Waiting for @sugarblaster to defend this new f...</td>\n",
       "      <td>1</td>\n",
       "    </tr>\n",
       "    <tr>\n",
       "      <th>1</th>\n",
       "      <td>@CorporalKitty nice, big fan of the lines in m...</td>\n",
       "      <td>1</td>\n",
       "    </tr>\n",
       "    <tr>\n",
       "      <th>2</th>\n",
       "      <td>This is awful :( #SayHerName #SandraBland http...</td>\n",
       "      <td>-1</td>\n",
       "    </tr>\n",
       "    <tr>\n",
       "      <th>3</th>\n",
       "      <td>:( I can no longer admire the consistency of J...</td>\n",
       "      <td>-1</td>\n",
       "    </tr>\n",
       "    <tr>\n",
       "      <th>4</th>\n",
       "      <td>zamn the line up for afropunk fest brooklyn :(</td>\n",
       "      <td>-1</td>\n",
       "    </tr>\n",
       "    <tr>\n",
       "      <th>...</th>\n",
       "      <td>...</td>\n",
       "      <td>...</td>\n",
       "    </tr>\n",
       "    <tr>\n",
       "      <th>9995</th>\n",
       "      <td>I wish more people did 11:11s for me :(</td>\n",
       "      <td>-1</td>\n",
       "    </tr>\n",
       "    <tr>\n",
       "      <th>9996</th>\n",
       "      <td>No food in the kitchen, no money in my wallet ...</td>\n",
       "      <td>-1</td>\n",
       "    </tr>\n",
       "    <tr>\n",
       "      <th>9997</th>\n",
       "      <td>Thanks a million for keeping an eye on our twe...</td>\n",
       "      <td>1</td>\n",
       "    </tr>\n",
       "    <tr>\n",
       "      <th>9998</th>\n",
       "      <td>♛♛♛\\n》》》》 \\nI LOVE YOU SO MUCH.\\nI BELİEVE THA...</td>\n",
       "      <td>-1</td>\n",
       "    </tr>\n",
       "    <tr>\n",
       "      <th>9999</th>\n",
       "      <td>I can't even see Hyungwon :(</td>\n",
       "      <td>-1</td>\n",
       "    </tr>\n",
       "  </tbody>\n",
       "</table>\n",
       "<p>10000 rows × 2 columns</p>\n",
       "</div>"
      ],
      "text/plain": [
       "                                                   text  Value\n",
       "0     Waiting for @sugarblaster to defend this new f...      1\n",
       "1     @CorporalKitty nice, big fan of the lines in m...      1\n",
       "2     This is awful :( #SayHerName #SandraBland http...     -1\n",
       "3     :( I can no longer admire the consistency of J...     -1\n",
       "4        zamn the line up for afropunk fest brooklyn :(     -1\n",
       "...                                                 ...    ...\n",
       "9995            I wish more people did 11:11s for me :(     -1\n",
       "9996  No food in the kitchen, no money in my wallet ...     -1\n",
       "9997  Thanks a million for keeping an eye on our twe...      1\n",
       "9998  ♛♛♛\\n》》》》 \\nI LOVE YOU SO MUCH.\\nI BELİEVE THA...     -1\n",
       "9999                       I can't even see Hyungwon :(     -1\n",
       "\n",
       "[10000 rows x 2 columns]"
      ]
     },
     "execution_count": 12,
     "metadata": {},
     "output_type": "execute_result"
    }
   ],
   "source": [
    "df\n"
   ]
  },
  {
   "cell_type": "markdown",
   "metadata": {},
   "source": [
    "# bereinigen der Daten"
   ]
  },
  {
   "cell_type": "code",
   "execution_count": 13,
   "metadata": {},
   "outputs": [
    {
     "data": {
      "text/plain": [
       "0    waiting for   to defend this new fashion atroc...\n",
       "1        nice, big fan of the lines in mr j s smile :)\n",
       "2          this is awful :( #sayhername #sandrabland  \n",
       "3    :( i can no longer admire the consistency of j...\n",
       "4       zamn the line up for afropunk fest brooklyn :(\n",
       "5                            when s your birthday ? :(\n",
       "6                                            spoile :)\n",
       "7    to cleanse the scam ridden body vyapam going t...\n",
       "8                                    local legend :(  \n",
       "9                  ahh no win for the goodbye stage :(\n",
       "Name: text, dtype: object"
      ]
     },
     "execution_count": 13,
     "metadata": {},
     "output_type": "execute_result"
    }
   ],
   "source": [
    "#bereinigen der Tweets\n",
    "remove_rt = lambda x: re.sub(\"(RT @\\w+: )|(@\\w+):\",\" \",x) #herausfiltern der usernamen und RT\n",
    "rt = lambda x: re.sub(\"(@[A-Za-z0–9]+)|[\\d\\.]|(\\w+:\\/\\/\\S+)|(\\n|\\t|\\')\",\" \",x) #herausfiltern markierter Usernamen \n",
    "htp = lambda x: re.sub('http[s]?:\\/\\/(?:[a-zA-Z]|[0-9]|[$-_@.&+#]|[!*\\(\\),]|(?:%[0-9a-fA-F][0-9a-fA-F]))+',\" \",x) #entfernen von links, sonderzeichen, punkten\n",
    "\n",
    "df[\"text\"] = df.text.map(remove_rt).map(rt).map(htp)\n",
    "df[\"text\"] = df.text.str.lower()\n",
    "df.text.head(10)"
   ]
  },
  {
   "cell_type": "code",
   "execution_count": 14,
   "metadata": {},
   "outputs": [],
   "source": [
    "#bereinigen des textes von den Emojis\n",
    "def deEmojify(text):\n",
    "    regrex_pattern = re.compile(\"[\"\n",
    "                           u\"\\U0001F600-\\U0001F64F\"  # emoticons\n",
    "                           u\"\\U0001F300-\\U0001F5FF\"  # symbols & pictographs\n",
    "                           u\"\\U0001F680-\\U0001F6FF\"  # transport & map symbols\n",
    "                           u\"\\U0001F1E0-\\U0001F1FF\"  # flags (iOS)\n",
    "                           u\"\\U00002702-\\U000027B0\"\n",
    "                           u\"\\U000024C2-\\U0001F251\"\n",
    "                           \"]+\", flags=re.UNICODE)\n",
    "    return regrex_pattern.sub(r'',text)\n",
    "\n",
    "df[\"text\"] = df.text.map(deEmojify)"
   ]
  },
  {
   "cell_type": "code",
   "execution_count": 15,
   "metadata": {},
   "outputs": [],
   "source": [
    "data = list(df[\"text\"])\n",
    "labels = list(df[\"Value\"])"
   ]
  },
  {
   "cell_type": "code",
   "execution_count": 16,
   "metadata": {},
   "outputs": [
    {
     "data": {
      "text/plain": [
       "['waiting for   to defend this new fashion atrocity :p',\n",
       " '  nice, big fan of the lines in mr j s smile :)',\n",
       " 'this is awful :( #sayhername #sandrabland  ',\n",
       " ':( i can no longer admire the consistency of jason shackell s hair on the   podcast  ',\n",
       " 'zamn the line up for afropunk fest brooklyn :(']"
      ]
     },
     "execution_count": 16,
     "metadata": {},
     "output_type": "execute_result"
    }
   ],
   "source": [
    "data[:5]"
   ]
  },
  {
   "cell_type": "code",
   "execution_count": 17,
   "metadata": {},
   "outputs": [],
   "source": [
    "#from nltk.tokenize import word_tokenize\n",
    "\n",
    "\n",
    "#data = list(map(lambda x: word_tokenize(x), data)) #tokenisieren der einzelnen zeichen\n",
    "#data[:5]"
   ]
  },
  {
   "cell_type": "code",
   "execution_count": 18,
   "metadata": {},
   "outputs": [],
   "source": [
    "#from sklearn.feature_extraction.text import CountVectorizer\n",
    "# Counting the no of times each word(Unigram) appear in document. \n",
    "#vectorizer = CountVectorizer(input='content',binary=False,ngram_range=(1,1))\n",
    "# First set the vocab\n",
    "#vectorizer = vectorizer.random_state=42fit(data)\n",
    "# Now transform the text contained in each document i.e list of text \n",
    "#print(vectorizer.get_feature_names())\n"
   ]
  },
  {
   "cell_type": "code",
   "execution_count": null,
   "metadata": {},
   "outputs": [],
   "source": []
  },
  {
   "cell_type": "code",
   "execution_count": 80,
   "metadata": {},
   "outputs": [],
   "source": [
    "from sklearn.pipeline import Pipeline\n",
    "from sklearn.pipeline import make_pipeline\n",
    "from sklearn.naive_bayes import MultinomialNB\n",
    "from sklearn.feature_extraction.text import CountVectorizer, TfidfTransformer,TfidfVectorizer\n",
    "from sklearn.model_selection import train_test_split, GridSearchCV, RandomizedSearchCV"
   ]
  },
  {
   "cell_type": "code",
   "execution_count": 20,
   "metadata": {},
   "outputs": [
    {
     "name": "stdout",
     "output_type": "stream",
     "text": [
      "10000\n"
     ]
    }
   ],
   "source": [
    "print(len(data))\n",
    "x_train, x_test, y_train, y_test = train_test_split(data, labels, test_size=0.15, random_state=42)"
   ]
  },
  {
   "cell_type": "code",
   "execution_count": 21,
   "metadata": {},
   "outputs": [
    {
     "data": {
      "text/plain": [
       "[':( i wna go to church',\n",
       " 'mum s home     hahahhaah thank you lord :)',\n",
       " 'imran khan a hero :) really  #ikprideofpak',\n",
       " 'new mosquitoe bites :(',\n",
       " 'charging my speaker up finally got it earlier today :)']"
      ]
     },
     "execution_count": 21,
     "metadata": {},
     "output_type": "execute_result"
    }
   ],
   "source": [
    "x_train[:5]"
   ]
  },
  {
   "cell_type": "code",
   "execution_count": 22,
   "metadata": {},
   "outputs": [],
   "source": [
    "vectorizer = TfidfVectorizer()"
   ]
  },
  {
   "cell_type": "code",
   "execution_count": 23,
   "metadata": {},
   "outputs": [],
   "source": [
    "vectors = vectorizer.fit_transform(data)\n",
    "\n",
    "vectors_train = vectorizer.transform(x_train)\n",
    "vectors_test = vectorizer.transform(x_test)"
   ]
  },
  {
   "cell_type": "code",
   "execution_count": 24,
   "metadata": {},
   "outputs": [],
   "source": [
    "model = MultinomialNB(alpha=.01)\n",
    "model = model.fit(vectors_train, y_train)"
   ]
  },
  {
   "cell_type": "code",
   "execution_count": 86,
   "metadata": {},
   "outputs": [
    {
     "name": "stdout",
     "output_type": "stream",
     "text": [
      "-------------------------- Altes Modell -------------------------\n",
      "\n",
      "              precision    recall  f1-score   support\n",
      "\n",
      "          -1     0.7252    0.8349    0.7762       727\n",
      "           1     0.8190    0.7025    0.7563       773\n",
      "\n",
      "    accuracy                         0.7667      1500\n",
      "   macro avg     0.7721    0.7687    0.7662      1500\n",
      "weighted avg     0.7735    0.7667    0.7659      1500\n",
      "\n",
      "-------------------------- Random Search -------------------------\n",
      "\n"
     ]
    },
    {
     "name": "stderr",
     "output_type": "stream",
     "text": [
      "/home/miguel/.local/lib/python3.9/site-packages/sklearn/model_selection/_search.py:285: UserWarning: The total space of parameters 800 is smaller than n_iter=1000. Running 800 iterations. For exhaustive searches, use GridSearchCV.\n",
      "  warnings.warn(\n",
      "/home/miguel/.local/lib/python3.9/site-packages/sklearn/model_selection/_search.py:922: UserWarning: One or more of the test scores are non-finite: [       nan        nan 0.6643043  0.67203283        nan        nan\n",
      " 0.72194634 0.73769246        nan        nan 0.66205077 0.66717929\n",
      "        nan        nan 0.71856245 0.73247914        nan        nan\n",
      " 0.66641437 0.67474214        nan        nan 0.74054294 0.75260927\n",
      "        nan        nan 0.66271135 0.66821117        nan        nan\n",
      " 0.73251699 0.74353011        nan        nan 0.36323098 0.36345547\n",
      "        nan        nan 0.64992165 0.65652044        nan        nan\n",
      " 0.36305813 0.36305813        nan        nan 0.64872207 0.65225637\n",
      "        nan        nan 0.36147192 0.36156512        nan        nan\n",
      " 0.64827372 0.65274024        nan        nan 0.36261205 0.36261205\n",
      "        nan        nan 0.64571789 0.64936808        nan        nan\n",
      " 0.16885628 0.16885628        nan        nan 0.44858613 0.44898894\n",
      "        nan        nan 0.16888835 0.16888835        nan        nan\n",
      " 0.44602162 0.44647159        nan        nan 0.66513173 0.67382343\n",
      "        nan        nan 0.72360371 0.73997261        nan        nan\n",
      " 0.66256613 0.66711299        nan        nan 0.7191199  0.73372044\n",
      "        nan        nan 0.66783349 0.67635282        nan        nan\n",
      " 0.74215584 0.75425026        nan        nan 0.66447201 0.66886656\n",
      "        nan        nan 0.73234773 0.74398402        nan        nan\n",
      " 0.36323098 0.36345547        nan        nan 0.65096667 0.65748067\n",
      "        nan        nan 0.36328699 0.36329053        nan        nan\n",
      " 0.64943677 0.65262686        nan        nan 0.36198867 0.36156512\n",
      "        nan        nan 0.64957975 0.65350797        nan        nan\n",
      " 0.36261205 0.36261205        nan        nan 0.64627228 0.65017195\n",
      "        nan        nan 0.16885628 0.16885628        nan        nan\n",
      " 0.44843852 0.44910165        nan        nan 0.16885628 0.16885628\n",
      "        nan        nan 0.44621354 0.44676953        nan        nan\n",
      " 0.67409521 0.67917001        nan        nan 0.74056158 0.74811037\n",
      "        nan        nan 0.6713491  0.67710819        nan        nan\n",
      " 0.73186807 0.74749238        nan        nan 0.67523481 0.68235341\n",
      "        nan        nan 0.75623932 0.75691777        nan        nan\n",
      " 0.67312945 0.67945945        nan        nan 0.74965313 0.76049106\n",
      "        nan        nan 0.3626934  0.36337637        nan        nan\n",
      " 0.65837779 0.66035597        nan        nan 0.36275505 0.36329648\n",
      "        nan        nan 0.6580348  0.66210181        nan        nan\n",
      " 0.36212988 0.36206207        nan        nan 0.65184417 0.65434763\n",
      "        nan        nan 0.36170196 0.36261302        nan        nan\n",
      " 0.65567782 0.65742754        nan        nan 0.16895662 0.16895662\n",
      "        nan        nan 0.4506626  0.45031993        nan        nan\n",
      " 0.16889304 0.16889304        nan        nan 0.44745568 0.44865992\n",
      "        nan        nan 0.67581004 0.6814307         nan        nan\n",
      " 0.74200498 0.74911905        nan        nan 0.67099789 0.67769324\n",
      "        nan        nan 0.73281043 0.74762374        nan        nan\n",
      " 0.67769081 0.68351696        nan        nan 0.75938249 0.76336655\n",
      "        nan        nan 0.67362523 0.68026287        nan        nan\n",
      " 0.74999588 0.76150241        nan        nan 0.3626934  0.36337637\n",
      "        nan        nan 0.65920545 0.66103057        nan        nan\n",
      " 0.36346036 0.36359304        nan        nan 0.65814496 0.66289324\n",
      "        nan        nan 0.36206207 0.36237879        nan        nan\n",
      " 0.65598702 0.65697895        nan        nan 0.36283296 0.36290958\n",
      "        nan        nan 0.65572728 0.65785642        nan        nan\n",
      " 0.16895662 0.16895662        nan        nan 0.45035085 0.45062074\n",
      "        nan        nan 0.16889304 0.16889304        nan        nan\n",
      " 0.44762977 0.44906832        nan        nan 0.67817107 0.68083927\n",
      "        nan        nan 0.74275387 0.74699145        nan        nan\n",
      " 0.67516222 0.68283784        nan        nan 0.73819053 0.75268047\n",
      "        nan        nan 0.67701218 0.68096334        nan        nan\n",
      " 0.75403248 0.75354508        nan        nan 0.67909477 0.68672353\n",
      "        nan        nan 0.75856428 0.76643437        nan        nan\n",
      " 0.36306203 0.36428271        nan        nan 0.65473303 0.65522114\n",
      "        nan        nan 0.36321752 0.36418288        nan        nan\n",
      " 0.6631359  0.66474941        nan        nan 0.36207254 0.36328369\n",
      "        nan        nan 0.64948623 0.65156492        nan        nan\n",
      " 0.36207752 0.36360225        nan        nan 0.65631177 0.66132125\n",
      "        nan        nan 0.16895662 0.16895662        nan        nan\n",
      " 0.45059144 0.45071551        nan        nan 0.16895662 0.16895662\n",
      "        nan        nan 0.44927974 0.44775561        nan        nan\n",
      " 0.68018906 0.68377077        nan        nan 0.74754857 0.7492738\n",
      "        nan        nan 0.67599252 0.68448112        nan        nan\n",
      " 0.7406003  0.75426691        nan        nan 0.6799257  0.68376955\n",
      "        nan        nan 0.75877593 0.75750626        nan        nan\n",
      " 0.68030802 0.68667034        nan        nan 0.7589138  0.76687634\n",
      "        nan        nan 0.36306203 0.36421543        nan        nan\n",
      " 0.65827908 0.6582495         nan        nan 0.36374187 0.36477493\n",
      "        nan        nan 0.66390043 0.66582853        nan        nan\n",
      " 0.36262349 0.36383192        nan        nan 0.65211768 0.65449071\n",
      "        nan        nan 0.36230637 0.36389881        nan        nan\n",
      " 0.65741584 0.66248756        nan        nan 0.16895662 0.16895662\n",
      "        nan        nan 0.45011283 0.45066261        nan        nan\n",
      " 0.16895662 0.16895662        nan        nan 0.44915965 0.44800738\n",
      "        nan        nan 0.67908058 0.68294503        nan        nan\n",
      " 0.74406177 0.74439182        nan        nan 0.68063756 0.6862893\n",
      "        nan        nan 0.74651174 0.75441036        nan        nan\n",
      " 0.6771654  0.67893443        nan        nan 0.75194832 0.74522034\n",
      "        nan        nan 0.68478035 0.68980437        nan        nan\n",
      " 0.76447479 0.76440203        nan        nan 0.36337606 0.36389353\n",
      "        nan        nan 0.64998958 0.64988116        nan        nan\n",
      " 0.36395858 0.36382355        nan        nan 0.66418328 0.66409496\n",
      "        nan        nan 0.36282481 0.36379066        nan        nan\n",
      " 0.64504172 0.64516593        nan        nan 0.36324248 0.36353707\n",
      "        nan        nan 0.6595304  0.66037593        nan        nan\n",
      " 0.16895662 0.16895662        nan        nan 0.44980143 0.44981352\n",
      "        nan        nan 0.16898869 0.16898869        nan        nan\n",
      " 0.44810763 0.44805652        nan        nan 0.68101579 0.68633267\n",
      "        nan        nan 0.74825599 0.7484358         nan        nan\n",
      " 0.68143269 0.68699424        nan        nan 0.74792173 0.75535255\n",
      "        nan        nan 0.68015723 0.68026795        nan        nan\n",
      " 0.75572469 0.75160903        nan        nan 0.68524243 0.69087086\n",
      "        nan        nan 0.7649657  0.76515798        nan        nan\n",
      " 0.36420462 0.36419605        nan        nan 0.65457474 0.65385334\n",
      "        nan        nan 0.36418744 0.36412011        nan        nan\n",
      " 0.6651228  0.66418077        nan        nan 0.36352635 0.3641292\n",
      "        nan        nan 0.65092143 0.64996869        nan        nan\n",
      " 0.36376592 0.36376403        nan        nan 0.66048575 0.66214179\n",
      "        nan        nan 0.16895662 0.16895662        nan        nan\n",
      " 0.45091023 0.45020568        nan        nan 0.16895662 0.16895662\n",
      "        nan        nan 0.44835828 0.44940296        nan        nan\n",
      " 0.67917584 0.68234861        nan        nan 0.74847707 0.74118619\n",
      "        nan        nan 0.68471051 0.68898327        nan        nan\n",
      " 0.74848334 0.75373125        nan        nan 0.67707628 0.67913144\n",
      "        nan        nan 0.74591818 0.73823635        nan        nan\n",
      " 0.68701541 0.688171          nan        nan 0.76407269 0.75897384\n",
      "        nan        nan 0.36403203 0.36416708        nan        nan\n",
      " 0.64664413 0.64536469        nan        nan 0.36389151 0.36360779\n",
      "        nan        nan 0.66211732 0.66049522        nan        nan\n",
      " 0.36272542 0.36313309        nan        nan 0.63889998 0.63957692\n",
      "        nan        nan 0.36324525 0.36323021        nan        nan\n",
      " 0.65895913 0.65774567        nan        nan 0.16895662 0.16895662\n",
      "        nan        nan 0.44638942 0.44727429        nan        nan\n",
      " 0.16898869 0.16898869        nan        nan 0.44792592 0.44896782\n",
      "        nan        nan 0.68172796 0.68637998        nan        nan\n",
      " 0.75046623 0.74560638        nan        nan 0.68648504 0.69084722\n",
      "        nan        nan 0.75026048 0.75523799        nan        nan\n",
      " 0.67887282 0.6815547         nan        nan 0.75347901 0.74523819\n",
      "        nan        nan 0.68842082 0.69124914        nan        nan\n",
      " 0.76587119 0.76132147        nan        nan 0.36449821 0.36419605\n",
      "        nan        nan 0.65222532 0.65122287        nan        nan\n",
      " 0.36405241 0.36449773        nan        nan 0.66317417 0.66144545\n",
      "        nan        nan 0.36390445 0.36405955        nan        nan\n",
      " 0.6481633  0.6454589         nan        nan 0.36376592 0.36441605\n",
      "        nan        nan 0.66006386 0.66015783        nan        nan\n",
      " 0.16895662 0.16895662        nan        nan 0.45011706 0.44945965\n",
      "        nan        nan 0.16895662 0.16895662        nan        nan\n",
      " 0.4494096  0.44950593]\n",
      "  warnings.warn(\n"
     ]
    },
    {
     "name": "stdout",
     "output_type": "stream",
     "text": [
      "              precision    recall  f1-score   support\n",
      "\n",
      "          -1     0.7272    0.8432    0.7809       727\n",
      "           1     0.8265    0.7025    0.7594       773\n",
      "\n",
      "    accuracy                         0.7707      1500\n",
      "   macro avg     0.7768    0.7728    0.7702      1500\n",
      "weighted avg     0.7783    0.7707    0.7698      1500\n",
      "\n"
     ]
    }
   ],
   "source": [
    "#--Tests von Miguel für Gridsearch--\n",
    "from joblib import dump, load\n",
    "from sklearn.metrics import classification_report\n",
    "from nltk import word_tokenize\n",
    "from nltk import WordNetLemmatizer\n",
    "\n",
    "#Diese Wörter werden ignoriert\n",
    "stopwords = [\"able\",\"about\",\"above\",\"abroad\",\"according\",\"accordingly\",\"across\",\"actually\",\"adj\",\"after\",\"afterwards\",\"again\",\"against\",\"ago\",\"ahead\",\"ain't\",\"all\",\"allow\",\"allows\",\"almost\",\"alone\",\"along\",\"alongside\",\"already\",\"also\",\"although\",\"always\",\"am\",\"amid\",\"amidst\",\"among\",\"amongst\",\"an\",\"and\",\"another\",\"any\",\"anybody\",\"anyhow\",\"anyone\",\"anything\",\"anyway\",\"anyways\",\"anywhere\",\"apart\",\"appear\",\"appreciate\",\"appropriate\",\"are\",\"aren't\",\"around\",\"as\",\"a's\",\"aside\",\"ask\",\"asking\",\"associated\",\"at\",\"available\",\"away\",\"awfully\",\"back\",\"backward\",\"backwards\",\"be\",\"became\",\"because\",\"become\",\"becomes\",\"becoming\",\"been\",\"before\",\"beforehand\",\"begin\",\"behind\",\"being\",\"believe\",\"below\",\"beside\",\"besides\",\"best\",\"better\",\"between\",\"beyond\",\"both\",\"brief\",\"but\",\"by\",\"came\",\"can\",\"cannot\",\"cant\",\"can't\",\"caption\",\"cause\",\"causes\",\"certain\",\"certainly\",\"changes\",\"clearly\",\"c'mon\",\"co\",\"co.\",\"com\",\"come\",\"comes\",\"concerning\",\"consequently\",\"consider\",\"considering\",\"contain\",\"containing\",\"contains\",\"corresponding\",\"could\",\"couldn't\",\"course\",\"c's\",\"currently\",\"dare\",\"daren't\",\"definitely\",\"described\",\"despite\",\"did\",\"didn't\",\"different\",\"directly\",\"do\",\"does\",\"doesn't\",\"doing\",\"done\",\"don't\",\"down\",\"downwards\",\"during\",\"each\",\"edu\",\"eg\",\"eight\",\"eighty\",\"either\",\"else\",\"elsewhere\",\"end\",\"ending\",\"enough\",\"entirely\",\"especially\",\"et\",\"etc\",\"even\",\"ever\",\"evermore\",\"every\",\"everybody\",\"everyone\",\"everything\",\"everywhere\",\"ex\",\"exactly\",\"example\",\"except\",\"fairly\",\"far\",\"farther\",\"few\",\"fewer\",\"fifth\",\"first\",\"five\",\"followed\",\"following\",\"follows\",\"for\",\"forever\",\"former\",\"formerly\",\"forth\",\"forward\",\"found\",\"four\",\"from\",\"further\",\"furthermore\",\"get\",\"gets\",\"getting\",\"given\",\"gives\",\"go\",\"goes\",\"going\",\"gone\",\"got\",\"gotten\",\"greetings\",\"had\",\"hadn't\",\"half\",\"happens\",\"hardly\",\"has\",\"hasn't\",\"have\",\"haven't\",\"having\",\"he\",\"he'd\",\"he'll\",\"hello\",\"help\",\"hence\",\"her\",\"here\",\"hereafter\",\"hereby\",\"herein\",\"here's\",\"hereupon\",\"hers\",\"herself\",\"he's\",\"hi\",\"him\",\"himself\",\"his\",\"hither\",\"hopefully\",\"how\",\"howbeit\",\"however\",\"hundred\",\"i'd\",\"ie\",\"if\",\"ignored\",\"i'll\",\"i'm\",\"immediate\",\"in\",\"inasmuch\",\"inc\",\"inc.\",\"indeed\",\"indicate\",\"indicated\",\"indicates\",\"inner\",\"inside\",\"insofar\",\"instead\",\"into\",\"inward\",\"is\",\"isn't\",\"it\",\"it'd\",\"it'll\",\"its\",\"it's\",\"itself\",\"i've\",\"just\",\"k\",\"keep\",\"keeps\",\"kept\",\"know\",\"known\",\"knows\",\"last\",\"lately\",\"later\",\"latter\",\"latterly\",\"least\",\"less\",\"lest\",\"let\",\"let's\",\"like\",\"liked\",\"likely\",\"likewise\",\"little\",\"look\",\"looking\",\"looks\",\"low\",\"lower\",\"ltd\",\"made\",\"mainly\",\"make\",\"makes\",\"many\",\"may\",\"maybe\",\"mayn't\",\"me\",\"mean\",\"meantime\",\"meanwhile\",\"merely\",\"might\",\"mightn't\",\"mine\",\"minus\",\"miss\",\"more\",\"moreover\",\"most\",\"mostly\",\"mr\",\"mrs\",\"much\",\"must\",\"mustn't\",\"my\",\"myself\",\"name\",\"namely\",\"nd\",\"near\",\"nearly\",\"necessary\",\"need\",\"needn't\",\"needs\",\"neither\",\"never\",\"neverf\",\"neverless\",\"nevertheless\",\"new\",\"next\",\"nine\",\"ninety\",\"no\",\"nobody\",\"non\",\"none\",\"nonetheless\",\"noone\",\"no-one\",\"nor\",\"normally\",\"not\",\"nothing\",\"notwithstanding\",\"novel\",\"now\",\"nowhere\",\"obviously\",\"of\",\"off\",\"often\",\"oh\",\"ok\",\"okay\",\"old\",\"on\",\"once\",\"one\",\"ones\",\"one's\",\"only\",\"onto\",\"opposite\",\"or\",\"other\",\"others\",\"otherwise\",\"ought\",\"oughtn't\",\"our\",\"ours\",\"ourselves\",\"out\",\"outside\",\"over\",\"overall\",\"own\",\"particular\",\"particularly\",\"past\",\"per\",\"perhaps\",\"placed\",\"please\",\"plus\",\"possible\",\"presumably\",\"probably\",\"provided\",\"provides\",\"que\",\"quite\",\"qv\",\"rather\",\"rd\",\"re\",\"really\",\"reasonably\",\"recent\",\"recently\",\"regarding\",\"regardless\",\"regards\",\"relatively\",\"respectively\",\"right\",\"round\",\"said\",\"same\",\"saw\",\"say\",\"saying\",\"says\",\"second\",\"secondly\",\"see\",\"seeing\",\"seem\",\"seemed\",\"seeming\",\"seems\",\"seen\",\"self\",\"selves\",\"sensible\",\"sent\",\"serious\",\"seriously\",\"seven\",\"several\",\"shall\",\"shan't\",\"she\",\"she'd\",\"she'll\",\"she's\",\"should\",\"shouldn't\",\"since\",\"six\",\"so\",\"some\",\"somebody\",\"someday\",\"somehow\",\"someone\",\"something\",\"sometime\",\"sometimes\",\"somewhat\",\"somewhere\",\"soon\",\"sorry\",\"specified\",\"specify\",\"specifying\",\"still\",\"sub\",\"such\",\"sup\",\"sure\",\"take\",\"taken\",\"taking\",\"tell\",\"tends\",\"th\",\"than\",\"thank\",\"thanks\",\"thanx\",\"that\",\"that'll\",\"thats\",\"that's\",\"that've\",\"the\",\"their\",\"theirs\",\"them\",\"themselves\",\"then\",\"thence\",\"there\",\"thereafter\",\"thereby\",\"there'd\",\"therefore\",\"therein\",\"there'll\",\"there're\",\"theres\",\"there's\",\"thereupon\",\"there've\",\"these\",\"they\",\"they'd\",\"they'll\",\"they're\",\"they've\",\"thing\",\"things\",\"think\",\"third\",\"thirty\",\"this\",\"thorough\",\"thoroughly\",\"those\",\"though\",\"three\",\"through\",\"throughout\",\"thru\",\"thus\",\"till\",\"to\",\"together\",\"too\",\"took\",\"toward\",\"towards\",\"tried\",\"tries\",\"truly\",\"try\",\"trying\",\"t's\",\"twice\",\"two\",\"un\",\"under\",\"underneath\",\"undoing\",\"unfortunately\",\"unless\",\"unlike\",\"unlikely\",\"until\",\"unto\",\"up\",\"upon\",\"upwards\",\"us\",\"use\",\"used\",\"useful\",\"uses\",\"using\",\"usually\",\"v\",\"value\",\"various\",\"versus\",\"very\",\"via\",\"viz\",\"vs\",\"want\",\"wants\",\"was\",\"wasn't\",\"way\",\"we\",\"we'd\",\"welcome\",\"well\",\"we'll\",\"went\",\"were\",\"we're\",\"weren't\",\"we've\",\"what\",\"whatever\",\"what'll\",\"what's\",\"what've\",\"when\",\"whence\",\"whenever\",\"where\",\"whereafter\",\"whereas\",\"whereby\",\"wherein\",\"where's\",\"whereupon\",\"wherever\",\"whether\",\"which\",\"whichever\",\"while\",\"whilst\",\"whither\",\"who\",\"who'd\",\"whoever\",\"whole\",\"who'll\",\"whom\",\"whomever\",\"who's\",\"whose\",\"why\",\"will\",\"willing\",\"wish\",\"with\",\"within\",\"without\",\"wonder\",\"won't\",\"would\",\"wouldn't\",\"yes\",\"yet\",\"you\",\"you'd\",\"you'll\",\"your\",\"you're\",\"yours\",\"yourself\",\"yourselves\",\"you've\",\"zero\",\"a\",\"how's\",\"i\",\"when's\",\"why's\",\"b\",\"c\",\"d\",\"e\",\"f\",\"g\",\"h\",\"j\",\"l\",\"m\",\"n\",\"o\",\"p\",\"q\",\"r\",\"s\",\"t\",\"u\",\"uucp\",\"w\",\"x\",\"y\",\"z\",\"I\",\"www\",\"amount\",\"bill\",\"bottom\",\"call\",\"computer\",\"con\",\"couldnt\",\"cry\",\"de\",\"describe\",\"detail\",\"due\",\"eleven\",\"empty\",\"fifteen\",\"fifty\",\"fill\",\"find\",\"fire\",\"forty\",\"front\",\"full\",\"give\",\"hasnt\",\"herse\",\"himse\",\"interest\",\"itse”\",\"mill\",\"move\",\"myse”\",\"part\",\"put\",\"show\",\"side\",\"sincere\",\"sixty\",\"system\",\"ten\",\"thick\",\"thin\",\"top\",\"twelve\",\"twenty\",\"abst\",\"accordance\",\"act\",\"added\",\"adopted\",\"affected\",\"affecting\",\"affects\",\"ah\",\"announce\",\"anymore\",\"apparently\",\"approximately\",\"aren\",\"arent\",\"arise\",\"auth\",\"beginning\",\"beginnings\",\"begins\",\"biol\",\"briefly\",\"ca\",\"date\",\"ed\",\"effect\",\"et-al\",\"ff\",\"fix\",\"gave\",\"giving\",\"heres\",\"hes\",\"hid\",\"home\",\"id\",\"im\",\"immediately\",\"importance\",\"important\",\"index\",\"information\",\"invention\",\"itd\",\"keys\",\"kg\",\"km\",\"largely\",\"lets\",\"line\",\"'ll\",\"means\",\"mg\",\"million\",\"ml\",\"mug\",\"na\",\"nay\",\"necessarily\",\"nos\",\"noted\",\"obtain\",\"obtained\",\"omitted\",\"ord\",\"owing\",\"page\",\"pages\",\"poorly\",\"possibly\",\"potentially\",\"pp\",\"predominantly\",\"present\",\"previously\",\"primarily\",\"promptly\",\"proud\",\"quickly\",\"ran\",\"readily\",\"ref\",\"refs\",\"related\",\"research\",\"resulted\",\"resulting\",\"results\",\"run\",\"sec\",\"section\",\"shed\",\"shes\",\"showed\",\"shown\",\"showns\",\"shows\",\"significant\",\"significantly\",\"similar\",\"similarly\",\"slightly\",\"somethan\",\"specifically\",\"state\",\"states\",\"stop\",\"strongly\",\"substantially\",\"successfully\",\"sufficiently\",\"suggest\",\"thered\",\"thereof\",\"therere\",\"thereto\",\"theyd\",\"theyre\",\"thou\",\"thoughh\",\"thousand\",\"throug\",\"til\",\"tip\",\"ts\",\"ups\",\"usefully\",\"usefulness\",\"'ve\",\"vol\",\"vols\",\"wed\",\"whats\",\"wheres\",\"whim\",\"whod\",\"whos\",\"widely\",\"words\",\"world\",\"youd\",\"youre\"]\n",
    "\n",
    "class lemmaTokenizer: # Macht Konjugation rückgängig, allderdings nur auf Englisch\n",
    "    def __init__(self):\n",
    "        self.wnl = WordNetLemmatizer()\n",
    "    def __call__(self, doc):\n",
    "        return [self.wnl.lemmatize(t) for t in word_tokenize(doc)]\n",
    "\n",
    "pipe = make_pipeline(TfidfVectorizer(), MultinomialNB())\n",
    "#Vectorizer/Modell kann testweise hier geändert werden\n",
    "pipe.fit(x_train, y_train) # Training ohne Hyperparameteroptimierung\n",
    "\n",
    "print('-------------------------- Altes Modell -------------------------\\n')\n",
    "print(classification_report(y_test, pipe.predict(x_test), digits=4)) \n",
    "# anders als bestehendes Modell -> Fehler?\n",
    "#print(pipe.get_params())\n",
    "\n",
    "param_grid = {'multinomialnb__alpha': [0.01, 0.1, 0.25, 0.5, 1],\n",
    "'multinomialnb__fit_prior' : [True, False],\n",
    "'tfidfvectorizer__use_idf' : [True, False],\n",
    "'tfidfvectorizer__norm': ['l1', 'l2'],\n",
    "'tfidfvectorizer__stop_words' : [stopwords, None],                      \n",
    "'tfidfvectorizer__tokenizer': [lemmaTokenizer, None],              \n",
    "'tfidfvectorizer__ngram_range': [(1,1), (1,2), (2,2), (2,3), (3,3)]}\n",
    "\n",
    "\n",
    "gridsearch = GridSearchCV(pipe, param_grid, scoring = 'f1', cv=10, n_jobs = 16)\n",
    "'''\n",
    "gridsearch.fit(x_train, y_train)\n",
    "print(\"-------------------------- Grid Search -------------------------\\n\")\n",
    "print(classification_report(y_test, gridsearch.predict(x_test), digits=4))\n",
    "'''\n",
    "print(\"-------------------------- Random Search -------------------------\\n\")\n",
    "randomsearch = RandomizedSearchCV(pipe, param_grid, scoring = 'f1', cv=10, n_jobs = 16, n_iter = 1000)\n",
    "randomsearch.fit(x_train, y_train)\n",
    "print(classification_report(y_test, randomsearch.predict(x_test), digits=4))\n",
    "#dump(gridsearch, 'model.joblib') # Abspeichern des Modells"
   ]
  },
  {
   "cell_type": "markdown",
   "metadata": {},
   "source": [
    "# Auswertung des Models"
   ]
  },
  {
   "cell_type": "code",
   "execution_count": 87,
   "metadata": {},
   "outputs": [
    {
     "name": "stdout",
     "output_type": "stream",
     "text": [
      "              precision    recall  f1-score   support\n",
      "\n",
      "          -1     0.7108    0.8047    0.7548       727\n",
      "           1     0.7903    0.6921    0.7379       773\n",
      "\n",
      "    accuracy                         0.7467      1500\n",
      "   macro avg     0.7505    0.7484    0.7464      1500\n",
      "weighted avg     0.7518    0.7467    0.7461      1500\n",
      "\n"
     ]
    }
   ],
   "source": [
    "from sklearn.metrics import classification_report\n",
    "\n",
    "print(classification_report(y_test, model.predict(vectors_test), digits=4))"
   ]
  },
  {
   "cell_type": "markdown",
   "metadata": {},
   "source": [
    "# Anreichern der Tweets"
   ]
  },
  {
   "cell_type": "code",
   "execution_count": 90,
   "metadata": {},
   "outputs": [],
   "source": [
    "#einlesen der Daten\n",
    "data_tweets = pd.read_json(\"./cryptodoge.json\", lines=True)\n",
    "df_tweets=data_tweets\n"
   ]
  },
  {
   "cell_type": "code",
   "execution_count": 112,
   "metadata": {},
   "outputs": [],
   "source": [
    "#bereinigen der Tweets\n",
    "remove_rt = lambda x: re.sub(\"(RT @\\w+: )|(@\\w+):\",\" \",x) #herausfiltern der usernamen und RT\n",
    "rt = lambda x: re.sub(\"(@[A-Za-z0–9]+)|[\\d\\.]|(\\w+:\\/\\/\\S+)|(\\n|\\t|\\')\",\" \",x) #herausfiltern markierter Usernamen \n",
    "htp = lambda x: re.sub('http[s]?://(?:[a-zA-Z]|[0-9]|[$-_@.&+#]|[!*\\(\\),]|(?:%[0-9a-fA-F][0-9a-fA-F]))+',\" \",x) #entfernen von links, sonderzeichen, punkten\n",
    "\n",
    "df_tweets[\"text\"] = df.text.map(remove_rt).map(rt).map(htp)\n",
    "df_tweets[\"text\"] = df.text.str.lower()\n",
    "df_tweets.text.head(10)\n",
    "\n",
    "#bereinigen des textes von den Emojis\n",
    "def deEmojify(text):\n",
    "    regrex_pattern = re.compile(\"[\"\n",
    "                           u\"\\U0001F600-\\U0001F64F\"  # emoticons\n",
    "                           u\"\\U0001F300-\\U0001F5FF\"  # symbols & pictographs\n",
    "                           u\"\\U0001F680-\\U0001F6FF\"  # transport & map symbols\n",
    "                           u\"\\U0001F1E0-\\U0001F1FF\"  # flags (iOS)\n",
    "                           u\"\\U00002702-\\U000027B0\"\n",
    "                           u\"\\U000024C2-\\U0001F251\"\n",
    "                           \"]+\", flags=re.UNICODE)\n",
    "    return regrex_pattern.sub(r'',text)\n",
    "\n",
    "df_tweets[\"text\"] = df_tweets.text.map(deEmojify)\n",
    "\n",
    "df_tweets.drop(df_tweets[df_tweets['lang'] != 'en'].index, inplace = True) #Modell ist nur für englisch trainiert -> nur Englisch auswerten"
   ]
  },
  {
   "cell_type": "code",
   "execution_count": 113,
   "metadata": {},
   "outputs": [
    {
     "data": {
      "text/html": [
       "<div>\n",
       "<style scoped>\n",
       "    .dataframe tbody tr th:only-of-type {\n",
       "        vertical-align: middle;\n",
       "    }\n",
       "\n",
       "    .dataframe tbody tr th {\n",
       "        vertical-align: top;\n",
       "    }\n",
       "\n",
       "    .dataframe thead th {\n",
       "        text-align: right;\n",
       "    }\n",
       "</style>\n",
       "<table border=\"1\" class=\"dataframe\">\n",
       "  <thead>\n",
       "    <tr style=\"text-align: right;\">\n",
       "      <th></th>\n",
       "      <th>created_at</th>\n",
       "      <th>id</th>\n",
       "      <th>id_str</th>\n",
       "      <th>text</th>\n",
       "      <th>source</th>\n",
       "      <th>truncated</th>\n",
       "      <th>in_reply_to_status_id</th>\n",
       "      <th>in_reply_to_status_id_str</th>\n",
       "      <th>in_reply_to_user_id</th>\n",
       "      <th>in_reply_to_user_id_str</th>\n",
       "      <th>...</th>\n",
       "      <th>possibly_sensitive</th>\n",
       "      <th>quoted_status_id</th>\n",
       "      <th>quoted_status_id_str</th>\n",
       "      <th>quoted_status</th>\n",
       "      <th>quoted_status_permalink</th>\n",
       "      <th>extended_entities</th>\n",
       "      <th>neg_prob</th>\n",
       "      <th>pos_prob</th>\n",
       "      <th>sentiment</th>\n",
       "      <th>followers_count</th>\n",
       "    </tr>\n",
       "  </thead>\n",
       "  <tbody>\n",
       "    <tr>\n",
       "      <th>0</th>\n",
       "      <td>2021-06-28 16:25:33+00:00</td>\n",
       "      <td>1409548535272407047</td>\n",
       "      <td>1409548535272407040</td>\n",
       "      <td>waiting for   to defend this new fashion atroc...</td>\n",
       "      <td>&lt;a href=\"http://twitter.com/download/android\" ...</td>\n",
       "      <td>False</td>\n",
       "      <td>NaN</td>\n",
       "      <td>NaN</td>\n",
       "      <td>NaN</td>\n",
       "      <td>NaN</td>\n",
       "      <td>...</td>\n",
       "      <td>NaN</td>\n",
       "      <td>NaN</td>\n",
       "      <td>NaN</td>\n",
       "      <td>NaN</td>\n",
       "      <td>NaN</td>\n",
       "      <td>NaN</td>\n",
       "      <td>0.103769</td>\n",
       "      <td>0.896231</td>\n",
       "      <td>positive</td>\n",
       "      <td>3</td>\n",
       "    </tr>\n",
       "    <tr>\n",
       "      <th>1</th>\n",
       "      <td>2021-06-28 16:25:33+00:00</td>\n",
       "      <td>1409548536740552712</td>\n",
       "      <td>1409548536740552704</td>\n",
       "      <td>nice, big fan of the lines in mr j s smile :)</td>\n",
       "      <td>&lt;a href=\"http://twitter.com/download/android\" ...</td>\n",
       "      <td>False</td>\n",
       "      <td>NaN</td>\n",
       "      <td>NaN</td>\n",
       "      <td>NaN</td>\n",
       "      <td>NaN</td>\n",
       "      <td>...</td>\n",
       "      <td>NaN</td>\n",
       "      <td>NaN</td>\n",
       "      <td>NaN</td>\n",
       "      <td>NaN</td>\n",
       "      <td>NaN</td>\n",
       "      <td>NaN</td>\n",
       "      <td>0.022993</td>\n",
       "      <td>0.977007</td>\n",
       "      <td>positive</td>\n",
       "      <td>19</td>\n",
       "    </tr>\n",
       "    <tr>\n",
       "      <th>2</th>\n",
       "      <td>2021-06-28 16:25:34+00:00</td>\n",
       "      <td>1409548538988609537</td>\n",
       "      <td>1409548538988609536</td>\n",
       "      <td>this is awful :( #sayhername #sandrabland</td>\n",
       "      <td>&lt;a href=\"http://twitter.com/download/android\" ...</td>\n",
       "      <td>False</td>\n",
       "      <td>1.409546e+18</td>\n",
       "      <td>1.409546e+18</td>\n",
       "      <td>8.055323e+17</td>\n",
       "      <td>8.055323e+17</td>\n",
       "      <td>...</td>\n",
       "      <td>NaN</td>\n",
       "      <td>NaN</td>\n",
       "      <td>NaN</td>\n",
       "      <td>NaN</td>\n",
       "      <td>NaN</td>\n",
       "      <td>NaN</td>\n",
       "      <td>0.999792</td>\n",
       "      <td>0.000208</td>\n",
       "      <td>negative</td>\n",
       "      <td>74</td>\n",
       "    </tr>\n",
       "    <tr>\n",
       "      <th>3</th>\n",
       "      <td>2021-06-28 16:25:34+00:00</td>\n",
       "      <td>1409548540234194947</td>\n",
       "      <td>1409548540234194944</td>\n",
       "      <td>:( i can no longer admire the consistency of j...</td>\n",
       "      <td>&lt;a href=\"https://mobile.twitter.com\" rel=\"nofo...</td>\n",
       "      <td>True</td>\n",
       "      <td>1.406900e+18</td>\n",
       "      <td>1.406900e+18</td>\n",
       "      <td>1.074695e+18</td>\n",
       "      <td>1.074695e+18</td>\n",
       "      <td>...</td>\n",
       "      <td>0.0</td>\n",
       "      <td>NaN</td>\n",
       "      <td>NaN</td>\n",
       "      <td>NaN</td>\n",
       "      <td>NaN</td>\n",
       "      <td>NaN</td>\n",
       "      <td>0.376883</td>\n",
       "      <td>0.623117</td>\n",
       "      <td>positive</td>\n",
       "      <td>0</td>\n",
       "    </tr>\n",
       "  </tbody>\n",
       "</table>\n",
       "<p>4 rows × 40 columns</p>\n",
       "</div>"
      ],
      "text/plain": [
       "                 created_at                   id               id_str  \\\n",
       "0 2021-06-28 16:25:33+00:00  1409548535272407047  1409548535272407040   \n",
       "1 2021-06-28 16:25:33+00:00  1409548536740552712  1409548536740552704   \n",
       "2 2021-06-28 16:25:34+00:00  1409548538988609537  1409548538988609536   \n",
       "3 2021-06-28 16:25:34+00:00  1409548540234194947  1409548540234194944   \n",
       "\n",
       "                                                text  \\\n",
       "0  waiting for   to defend this new fashion atroc...   \n",
       "1      nice, big fan of the lines in mr j s smile :)   \n",
       "2        this is awful :( #sayhername #sandrabland     \n",
       "3  :( i can no longer admire the consistency of j...   \n",
       "\n",
       "                                              source  truncated  \\\n",
       "0  <a href=\"http://twitter.com/download/android\" ...      False   \n",
       "1  <a href=\"http://twitter.com/download/android\" ...      False   \n",
       "2  <a href=\"http://twitter.com/download/android\" ...      False   \n",
       "3  <a href=\"https://mobile.twitter.com\" rel=\"nofo...       True   \n",
       "\n",
       "   in_reply_to_status_id  in_reply_to_status_id_str  in_reply_to_user_id  \\\n",
       "0                    NaN                        NaN                  NaN   \n",
       "1                    NaN                        NaN                  NaN   \n",
       "2           1.409546e+18               1.409546e+18         8.055323e+17   \n",
       "3           1.406900e+18               1.406900e+18         1.074695e+18   \n",
       "\n",
       "   in_reply_to_user_id_str  ... possibly_sensitive quoted_status_id  \\\n",
       "0                      NaN  ...                NaN              NaN   \n",
       "1                      NaN  ...                NaN              NaN   \n",
       "2             8.055323e+17  ...                NaN              NaN   \n",
       "3             1.074695e+18  ...                0.0              NaN   \n",
       "\n",
       "   quoted_status_id_str  quoted_status  quoted_status_permalink  \\\n",
       "0                   NaN            NaN                      NaN   \n",
       "1                   NaN            NaN                      NaN   \n",
       "2                   NaN            NaN                      NaN   \n",
       "3                   NaN            NaN                      NaN   \n",
       "\n",
       "   extended_entities  neg_prob  pos_prob  sentiment  followers_count  \n",
       "0                NaN  0.103769  0.896231   positive                3  \n",
       "1                NaN  0.022993  0.977007   positive               19  \n",
       "2                NaN  0.999792  0.000208   negative               74  \n",
       "3                NaN  0.376883  0.623117   positive                0  \n",
       "\n",
       "[4 rows x 40 columns]"
      ]
     },
     "execution_count": 113,
     "metadata": {},
     "output_type": "execute_result"
    }
   ],
   "source": [
    "df_tweets[:4]"
   ]
  },
  {
   "cell_type": "code",
   "execution_count": 114,
   "metadata": {},
   "outputs": [],
   "source": [
    "clean_data_list = list(df_tweets[\"text\"])"
   ]
  },
  {
   "cell_type": "code",
   "execution_count": 115,
   "metadata": {},
   "outputs": [
    {
     "data": {
      "text/plain": [
       "['waiting for   to defend this new fashion atrocity :p',\n",
       " '  nice, big fan of the lines in mr j s smile :)',\n",
       " 'this is awful :( #sayhername #sandrabland  ',\n",
       " ':( i can no longer admire the consistency of jason shackell s hair on the   podcast  ',\n",
       " 'zamn the line up for afropunk fest brooklyn :(']"
      ]
     },
     "execution_count": 115,
     "metadata": {},
     "output_type": "execute_result"
    }
   ],
   "source": [
    "clean_data_list[:5]"
   ]
  },
  {
   "cell_type": "code",
   "execution_count": 116,
   "metadata": {},
   "outputs": [],
   "source": [
    "#kalkulieren der Wahrscheinlichkeiten des jeweiligen Textes"
   ]
  },
  {
   "cell_type": "code",
   "execution_count": 117,
   "metadata": {},
   "outputs": [],
   "source": [
    "one_test = vectorizer.transform(list(clean_data_list))"
   ]
  },
  {
   "cell_type": "code",
   "execution_count": 118,
   "metadata": {},
   "outputs": [
    {
     "data": {
      "text/plain": [
       "array([[1.03769185e-01, 8.96230815e-01],\n",
       "       [2.29925822e-02, 9.77007418e-01],\n",
       "       [9.99792294e-01, 2.07705622e-04],\n",
       "       ...,\n",
       "       [6.20509234e-03, 9.93794908e-01],\n",
       "       [5.63766769e-01, 4.36233231e-01],\n",
       "       [2.83145838e-01, 7.16854162e-01]])"
      ]
     },
     "execution_count": 118,
     "metadata": {},
     "output_type": "execute_result"
    }
   ],
   "source": [
    "prob_single=model.predict_proba(one_test)\n",
    "prob_single"
   ]
  },
  {
   "cell_type": "code",
   "execution_count": 119,
   "metadata": {},
   "outputs": [
    {
     "name": "stdout",
     "output_type": "stream",
     "text": [
      "<class 'list'>\n"
     ]
    }
   ],
   "source": [
    "neg_prob=[]\n",
    "pos_prob=[]\n",
    "print(type(neg_prob))\n",
    "\n",
    "for i in prob_single:\n",
    "    \n",
    "    neg_prob.append(i[0])\n",
    "    pos_prob.append(i[1])\n",
    "\n"
   ]
  },
  {
   "cell_type": "code",
   "execution_count": 120,
   "metadata": {},
   "outputs": [],
   "source": [
    "data_tweets[\"neg_prob\"]=neg_prob\n",
    "data_tweets[\"pos_prob\"]=pos_prob"
   ]
  },
  {
   "cell_type": "code",
   "execution_count": 121,
   "metadata": {},
   "outputs": [
    {
     "data": {
      "text/html": [
       "<div>\n",
       "<style scoped>\n",
       "    .dataframe tbody tr th:only-of-type {\n",
       "        vertical-align: middle;\n",
       "    }\n",
       "\n",
       "    .dataframe tbody tr th {\n",
       "        vertical-align: top;\n",
       "    }\n",
       "\n",
       "    .dataframe thead th {\n",
       "        text-align: right;\n",
       "    }\n",
       "</style>\n",
       "<table border=\"1\" class=\"dataframe\">\n",
       "  <thead>\n",
       "    <tr style=\"text-align: right;\">\n",
       "      <th></th>\n",
       "      <th>created_at</th>\n",
       "      <th>id</th>\n",
       "      <th>id_str</th>\n",
       "      <th>text</th>\n",
       "      <th>source</th>\n",
       "      <th>truncated</th>\n",
       "      <th>in_reply_to_status_id</th>\n",
       "      <th>in_reply_to_status_id_str</th>\n",
       "      <th>in_reply_to_user_id</th>\n",
       "      <th>in_reply_to_user_id_str</th>\n",
       "      <th>...</th>\n",
       "      <th>possibly_sensitive</th>\n",
       "      <th>quoted_status_id</th>\n",
       "      <th>quoted_status_id_str</th>\n",
       "      <th>quoted_status</th>\n",
       "      <th>quoted_status_permalink</th>\n",
       "      <th>extended_entities</th>\n",
       "      <th>neg_prob</th>\n",
       "      <th>pos_prob</th>\n",
       "      <th>sentiment</th>\n",
       "      <th>followers_count</th>\n",
       "    </tr>\n",
       "  </thead>\n",
       "  <tbody>\n",
       "    <tr>\n",
       "      <th>0</th>\n",
       "      <td>2021-06-28 16:25:33+00:00</td>\n",
       "      <td>1409548535272407047</td>\n",
       "      <td>1409548535272407040</td>\n",
       "      <td>waiting for   to defend this new fashion atroc...</td>\n",
       "      <td>&lt;a href=\"http://twitter.com/download/android\" ...</td>\n",
       "      <td>False</td>\n",
       "      <td>NaN</td>\n",
       "      <td>NaN</td>\n",
       "      <td>NaN</td>\n",
       "      <td>NaN</td>\n",
       "      <td>...</td>\n",
       "      <td>NaN</td>\n",
       "      <td>NaN</td>\n",
       "      <td>NaN</td>\n",
       "      <td>NaN</td>\n",
       "      <td>NaN</td>\n",
       "      <td>NaN</td>\n",
       "      <td>0.103769</td>\n",
       "      <td>0.896231</td>\n",
       "      <td>positive</td>\n",
       "      <td>3</td>\n",
       "    </tr>\n",
       "    <tr>\n",
       "      <th>1</th>\n",
       "      <td>2021-06-28 16:25:33+00:00</td>\n",
       "      <td>1409548536740552712</td>\n",
       "      <td>1409548536740552704</td>\n",
       "      <td>nice, big fan of the lines in mr j s smile :)</td>\n",
       "      <td>&lt;a href=\"http://twitter.com/download/android\" ...</td>\n",
       "      <td>False</td>\n",
       "      <td>NaN</td>\n",
       "      <td>NaN</td>\n",
       "      <td>NaN</td>\n",
       "      <td>NaN</td>\n",
       "      <td>...</td>\n",
       "      <td>NaN</td>\n",
       "      <td>NaN</td>\n",
       "      <td>NaN</td>\n",
       "      <td>NaN</td>\n",
       "      <td>NaN</td>\n",
       "      <td>NaN</td>\n",
       "      <td>0.022993</td>\n",
       "      <td>0.977007</td>\n",
       "      <td>positive</td>\n",
       "      <td>19</td>\n",
       "    </tr>\n",
       "    <tr>\n",
       "      <th>2</th>\n",
       "      <td>2021-06-28 16:25:34+00:00</td>\n",
       "      <td>1409548538988609537</td>\n",
       "      <td>1409548538988609536</td>\n",
       "      <td>this is awful :( #sayhername #sandrabland</td>\n",
       "      <td>&lt;a href=\"http://twitter.com/download/android\" ...</td>\n",
       "      <td>False</td>\n",
       "      <td>1.409546e+18</td>\n",
       "      <td>1.409546e+18</td>\n",
       "      <td>8.055323e+17</td>\n",
       "      <td>8.055323e+17</td>\n",
       "      <td>...</td>\n",
       "      <td>NaN</td>\n",
       "      <td>NaN</td>\n",
       "      <td>NaN</td>\n",
       "      <td>NaN</td>\n",
       "      <td>NaN</td>\n",
       "      <td>NaN</td>\n",
       "      <td>0.999792</td>\n",
       "      <td>0.000208</td>\n",
       "      <td>negative</td>\n",
       "      <td>74</td>\n",
       "    </tr>\n",
       "    <tr>\n",
       "      <th>3</th>\n",
       "      <td>2021-06-28 16:25:34+00:00</td>\n",
       "      <td>1409548540234194947</td>\n",
       "      <td>1409548540234194944</td>\n",
       "      <td>:( i can no longer admire the consistency of j...</td>\n",
       "      <td>&lt;a href=\"https://mobile.twitter.com\" rel=\"nofo...</td>\n",
       "      <td>True</td>\n",
       "      <td>1.406900e+18</td>\n",
       "      <td>1.406900e+18</td>\n",
       "      <td>1.074695e+18</td>\n",
       "      <td>1.074695e+18</td>\n",
       "      <td>...</td>\n",
       "      <td>0.0</td>\n",
       "      <td>NaN</td>\n",
       "      <td>NaN</td>\n",
       "      <td>NaN</td>\n",
       "      <td>NaN</td>\n",
       "      <td>NaN</td>\n",
       "      <td>0.376883</td>\n",
       "      <td>0.623117</td>\n",
       "      <td>positive</td>\n",
       "      <td>0</td>\n",
       "    </tr>\n",
       "    <tr>\n",
       "      <th>4</th>\n",
       "      <td>2021-06-28 16:25:34+00:00</td>\n",
       "      <td>1409548540494245896</td>\n",
       "      <td>1409548540494245888</td>\n",
       "      <td>zamn the line up for afropunk fest brooklyn :(</td>\n",
       "      <td>&lt;a href=\"http://twitter.com/download/android\" ...</td>\n",
       "      <td>False</td>\n",
       "      <td>NaN</td>\n",
       "      <td>NaN</td>\n",
       "      <td>NaN</td>\n",
       "      <td>NaN</td>\n",
       "      <td>...</td>\n",
       "      <td>NaN</td>\n",
       "      <td>NaN</td>\n",
       "      <td>NaN</td>\n",
       "      <td>NaN</td>\n",
       "      <td>NaN</td>\n",
       "      <td>NaN</td>\n",
       "      <td>0.995162</td>\n",
       "      <td>0.004838</td>\n",
       "      <td>negative</td>\n",
       "      <td>85</td>\n",
       "    </tr>\n",
       "  </tbody>\n",
       "</table>\n",
       "<p>5 rows × 40 columns</p>\n",
       "</div>"
      ],
      "text/plain": [
       "                 created_at                   id               id_str  \\\n",
       "0 2021-06-28 16:25:33+00:00  1409548535272407047  1409548535272407040   \n",
       "1 2021-06-28 16:25:33+00:00  1409548536740552712  1409548536740552704   \n",
       "2 2021-06-28 16:25:34+00:00  1409548538988609537  1409548538988609536   \n",
       "3 2021-06-28 16:25:34+00:00  1409548540234194947  1409548540234194944   \n",
       "4 2021-06-28 16:25:34+00:00  1409548540494245896  1409548540494245888   \n",
       "\n",
       "                                                text  \\\n",
       "0  waiting for   to defend this new fashion atroc...   \n",
       "1      nice, big fan of the lines in mr j s smile :)   \n",
       "2        this is awful :( #sayhername #sandrabland     \n",
       "3  :( i can no longer admire the consistency of j...   \n",
       "4     zamn the line up for afropunk fest brooklyn :(   \n",
       "\n",
       "                                              source  truncated  \\\n",
       "0  <a href=\"http://twitter.com/download/android\" ...      False   \n",
       "1  <a href=\"http://twitter.com/download/android\" ...      False   \n",
       "2  <a href=\"http://twitter.com/download/android\" ...      False   \n",
       "3  <a href=\"https://mobile.twitter.com\" rel=\"nofo...       True   \n",
       "4  <a href=\"http://twitter.com/download/android\" ...      False   \n",
       "\n",
       "   in_reply_to_status_id  in_reply_to_status_id_str  in_reply_to_user_id  \\\n",
       "0                    NaN                        NaN                  NaN   \n",
       "1                    NaN                        NaN                  NaN   \n",
       "2           1.409546e+18               1.409546e+18         8.055323e+17   \n",
       "3           1.406900e+18               1.406900e+18         1.074695e+18   \n",
       "4                    NaN                        NaN                  NaN   \n",
       "\n",
       "   in_reply_to_user_id_str  ... possibly_sensitive quoted_status_id  \\\n",
       "0                      NaN  ...                NaN              NaN   \n",
       "1                      NaN  ...                NaN              NaN   \n",
       "2             8.055323e+17  ...                NaN              NaN   \n",
       "3             1.074695e+18  ...                0.0              NaN   \n",
       "4                      NaN  ...                NaN              NaN   \n",
       "\n",
       "   quoted_status_id_str  quoted_status  quoted_status_permalink  \\\n",
       "0                   NaN            NaN                      NaN   \n",
       "1                   NaN            NaN                      NaN   \n",
       "2                   NaN            NaN                      NaN   \n",
       "3                   NaN            NaN                      NaN   \n",
       "4                   NaN            NaN                      NaN   \n",
       "\n",
       "   extended_entities  neg_prob  pos_prob  sentiment  followers_count  \n",
       "0                NaN  0.103769  0.896231   positive                3  \n",
       "1                NaN  0.022993  0.977007   positive               19  \n",
       "2                NaN  0.999792  0.000208   negative               74  \n",
       "3                NaN  0.376883  0.623117   positive                0  \n",
       "4                NaN  0.995162  0.004838   negative               85  \n",
       "\n",
       "[5 rows x 40 columns]"
      ]
     },
     "execution_count": 121,
     "metadata": {},
     "output_type": "execute_result"
    }
   ],
   "source": [
    "data_tweets[:5]"
   ]
  },
  {
   "cell_type": "code",
   "execution_count": 122,
   "metadata": {},
   "outputs": [],
   "source": [
    "data_tweets[\"sentiment\"]= 888\n",
    "\n",
    "for index, neg in data_tweets[\"neg_prob\"].iteritems():\n",
    "    \n",
    "    \n",
    "    if neg > 0.55 :\n",
    "        data_tweets.loc[index,\"sentiment\"]=\"negative\"\n",
    "\n",
    "    elif neg < 0.45:\n",
    "        data_tweets.loc[index,\"sentiment\"]= \"positive\"\n",
    "\n",
    "    else:\n",
    "        data_tweets.loc[index,\"sentiment\"]= \"neutral\"\n",
    "        \n",
    "    \n",
    " "
   ]
  },
  {
   "cell_type": "code",
   "execution_count": 123,
   "metadata": {},
   "outputs": [
    {
     "data": {
      "text/html": [
       "<div>\n",
       "<style scoped>\n",
       "    .dataframe tbody tr th:only-of-type {\n",
       "        vertical-align: middle;\n",
       "    }\n",
       "\n",
       "    .dataframe tbody tr th {\n",
       "        vertical-align: top;\n",
       "    }\n",
       "\n",
       "    .dataframe thead th {\n",
       "        text-align: right;\n",
       "    }\n",
       "</style>\n",
       "<table border=\"1\" class=\"dataframe\">\n",
       "  <thead>\n",
       "    <tr style=\"text-align: right;\">\n",
       "      <th></th>\n",
       "      <th>created_at</th>\n",
       "      <th>id</th>\n",
       "      <th>id_str</th>\n",
       "      <th>text</th>\n",
       "      <th>source</th>\n",
       "      <th>truncated</th>\n",
       "      <th>in_reply_to_status_id</th>\n",
       "      <th>in_reply_to_status_id_str</th>\n",
       "      <th>in_reply_to_user_id</th>\n",
       "      <th>in_reply_to_user_id_str</th>\n",
       "      <th>...</th>\n",
       "      <th>possibly_sensitive</th>\n",
       "      <th>quoted_status_id</th>\n",
       "      <th>quoted_status_id_str</th>\n",
       "      <th>quoted_status</th>\n",
       "      <th>quoted_status_permalink</th>\n",
       "      <th>extended_entities</th>\n",
       "      <th>neg_prob</th>\n",
       "      <th>pos_prob</th>\n",
       "      <th>sentiment</th>\n",
       "      <th>followers_count</th>\n",
       "    </tr>\n",
       "  </thead>\n",
       "  <tbody>\n",
       "    <tr>\n",
       "      <th>0</th>\n",
       "      <td>2021-06-28 16:25:33+00:00</td>\n",
       "      <td>1409548535272407047</td>\n",
       "      <td>1409548535272407040</td>\n",
       "      <td>waiting for   to defend this new fashion atroc...</td>\n",
       "      <td>&lt;a href=\"http://twitter.com/download/android\" ...</td>\n",
       "      <td>False</td>\n",
       "      <td>NaN</td>\n",
       "      <td>NaN</td>\n",
       "      <td>NaN</td>\n",
       "      <td>NaN</td>\n",
       "      <td>...</td>\n",
       "      <td>NaN</td>\n",
       "      <td>NaN</td>\n",
       "      <td>NaN</td>\n",
       "      <td>NaN</td>\n",
       "      <td>NaN</td>\n",
       "      <td>NaN</td>\n",
       "      <td>0.103769</td>\n",
       "      <td>0.896231</td>\n",
       "      <td>positive</td>\n",
       "      <td>3</td>\n",
       "    </tr>\n",
       "    <tr>\n",
       "      <th>1</th>\n",
       "      <td>2021-06-28 16:25:33+00:00</td>\n",
       "      <td>1409548536740552712</td>\n",
       "      <td>1409548536740552704</td>\n",
       "      <td>nice, big fan of the lines in mr j s smile :)</td>\n",
       "      <td>&lt;a href=\"http://twitter.com/download/android\" ...</td>\n",
       "      <td>False</td>\n",
       "      <td>NaN</td>\n",
       "      <td>NaN</td>\n",
       "      <td>NaN</td>\n",
       "      <td>NaN</td>\n",
       "      <td>...</td>\n",
       "      <td>NaN</td>\n",
       "      <td>NaN</td>\n",
       "      <td>NaN</td>\n",
       "      <td>NaN</td>\n",
       "      <td>NaN</td>\n",
       "      <td>NaN</td>\n",
       "      <td>0.022993</td>\n",
       "      <td>0.977007</td>\n",
       "      <td>positive</td>\n",
       "      <td>19</td>\n",
       "    </tr>\n",
       "    <tr>\n",
       "      <th>2</th>\n",
       "      <td>2021-06-28 16:25:34+00:00</td>\n",
       "      <td>1409548538988609537</td>\n",
       "      <td>1409548538988609536</td>\n",
       "      <td>this is awful :( #sayhername #sandrabland</td>\n",
       "      <td>&lt;a href=\"http://twitter.com/download/android\" ...</td>\n",
       "      <td>False</td>\n",
       "      <td>1.409546e+18</td>\n",
       "      <td>1.409546e+18</td>\n",
       "      <td>8.055323e+17</td>\n",
       "      <td>8.055323e+17</td>\n",
       "      <td>...</td>\n",
       "      <td>NaN</td>\n",
       "      <td>NaN</td>\n",
       "      <td>NaN</td>\n",
       "      <td>NaN</td>\n",
       "      <td>NaN</td>\n",
       "      <td>NaN</td>\n",
       "      <td>0.999792</td>\n",
       "      <td>0.000208</td>\n",
       "      <td>negative</td>\n",
       "      <td>74</td>\n",
       "    </tr>\n",
       "    <tr>\n",
       "      <th>3</th>\n",
       "      <td>2021-06-28 16:25:34+00:00</td>\n",
       "      <td>1409548540234194947</td>\n",
       "      <td>1409548540234194944</td>\n",
       "      <td>:( i can no longer admire the consistency of j...</td>\n",
       "      <td>&lt;a href=\"https://mobile.twitter.com\" rel=\"nofo...</td>\n",
       "      <td>True</td>\n",
       "      <td>1.406900e+18</td>\n",
       "      <td>1.406900e+18</td>\n",
       "      <td>1.074695e+18</td>\n",
       "      <td>1.074695e+18</td>\n",
       "      <td>...</td>\n",
       "      <td>0.0</td>\n",
       "      <td>NaN</td>\n",
       "      <td>NaN</td>\n",
       "      <td>NaN</td>\n",
       "      <td>NaN</td>\n",
       "      <td>NaN</td>\n",
       "      <td>0.376883</td>\n",
       "      <td>0.623117</td>\n",
       "      <td>positive</td>\n",
       "      <td>0</td>\n",
       "    </tr>\n",
       "    <tr>\n",
       "      <th>4</th>\n",
       "      <td>2021-06-28 16:25:34+00:00</td>\n",
       "      <td>1409548540494245896</td>\n",
       "      <td>1409548540494245888</td>\n",
       "      <td>zamn the line up for afropunk fest brooklyn :(</td>\n",
       "      <td>&lt;a href=\"http://twitter.com/download/android\" ...</td>\n",
       "      <td>False</td>\n",
       "      <td>NaN</td>\n",
       "      <td>NaN</td>\n",
       "      <td>NaN</td>\n",
       "      <td>NaN</td>\n",
       "      <td>...</td>\n",
       "      <td>NaN</td>\n",
       "      <td>NaN</td>\n",
       "      <td>NaN</td>\n",
       "      <td>NaN</td>\n",
       "      <td>NaN</td>\n",
       "      <td>NaN</td>\n",
       "      <td>0.995162</td>\n",
       "      <td>0.004838</td>\n",
       "      <td>negative</td>\n",
       "      <td>85</td>\n",
       "    </tr>\n",
       "  </tbody>\n",
       "</table>\n",
       "<p>5 rows × 40 columns</p>\n",
       "</div>"
      ],
      "text/plain": [
       "                 created_at                   id               id_str  \\\n",
       "0 2021-06-28 16:25:33+00:00  1409548535272407047  1409548535272407040   \n",
       "1 2021-06-28 16:25:33+00:00  1409548536740552712  1409548536740552704   \n",
       "2 2021-06-28 16:25:34+00:00  1409548538988609537  1409548538988609536   \n",
       "3 2021-06-28 16:25:34+00:00  1409548540234194947  1409548540234194944   \n",
       "4 2021-06-28 16:25:34+00:00  1409548540494245896  1409548540494245888   \n",
       "\n",
       "                                                text  \\\n",
       "0  waiting for   to defend this new fashion atroc...   \n",
       "1      nice, big fan of the lines in mr j s smile :)   \n",
       "2        this is awful :( #sayhername #sandrabland     \n",
       "3  :( i can no longer admire the consistency of j...   \n",
       "4     zamn the line up for afropunk fest brooklyn :(   \n",
       "\n",
       "                                              source  truncated  \\\n",
       "0  <a href=\"http://twitter.com/download/android\" ...      False   \n",
       "1  <a href=\"http://twitter.com/download/android\" ...      False   \n",
       "2  <a href=\"http://twitter.com/download/android\" ...      False   \n",
       "3  <a href=\"https://mobile.twitter.com\" rel=\"nofo...       True   \n",
       "4  <a href=\"http://twitter.com/download/android\" ...      False   \n",
       "\n",
       "   in_reply_to_status_id  in_reply_to_status_id_str  in_reply_to_user_id  \\\n",
       "0                    NaN                        NaN                  NaN   \n",
       "1                    NaN                        NaN                  NaN   \n",
       "2           1.409546e+18               1.409546e+18         8.055323e+17   \n",
       "3           1.406900e+18               1.406900e+18         1.074695e+18   \n",
       "4                    NaN                        NaN                  NaN   \n",
       "\n",
       "   in_reply_to_user_id_str  ... possibly_sensitive quoted_status_id  \\\n",
       "0                      NaN  ...                NaN              NaN   \n",
       "1                      NaN  ...                NaN              NaN   \n",
       "2             8.055323e+17  ...                NaN              NaN   \n",
       "3             1.074695e+18  ...                0.0              NaN   \n",
       "4                      NaN  ...                NaN              NaN   \n",
       "\n",
       "   quoted_status_id_str  quoted_status  quoted_status_permalink  \\\n",
       "0                   NaN            NaN                      NaN   \n",
       "1                   NaN            NaN                      NaN   \n",
       "2                   NaN            NaN                      NaN   \n",
       "3                   NaN            NaN                      NaN   \n",
       "4                   NaN            NaN                      NaN   \n",
       "\n",
       "   extended_entities  neg_prob  pos_prob  sentiment  followers_count  \n",
       "0                NaN  0.103769  0.896231   positive                3  \n",
       "1                NaN  0.022993  0.977007   positive               19  \n",
       "2                NaN  0.999792  0.000208   negative               74  \n",
       "3                NaN  0.376883  0.623117   positive                0  \n",
       "4                NaN  0.995162  0.004838   negative               85  \n",
       "\n",
       "[5 rows x 40 columns]"
      ]
     },
     "execution_count": 123,
     "metadata": {},
     "output_type": "execute_result"
    }
   ],
   "source": [
    "data_tweets[:5]"
   ]
  },
  {
   "cell_type": "code",
   "execution_count": 124,
   "metadata": {},
   "outputs": [],
   "source": [
    "## Exploratory Data Analysis"
   ]
  },
  {
   "cell_type": "code",
   "execution_count": 125,
   "metadata": {},
   "outputs": [
    {
     "name": "stderr",
     "output_type": "stream",
     "text": [
      "<ipython-input-125-1dc5d355197d>:3: SettingWithCopyWarning: \n",
      "A value is trying to be set on a copy of a slice from a DataFrame\n",
      "\n",
      "See the caveats in the documentation: https://pandas.pydata.org/pandas-docs/stable/user_guide/indexing.html#returning-a-view-versus-a-copy\n",
      "  df_tweets[\"followers_count\"][index] = df_tweets[\"user\"][index][\"followers_count\"]\n"
     ]
    }
   ],
   "source": [
    "df_tweets[\"followers_count\"] = 0\n",
    "for index, row in df_tweets.iterrows():\n",
    "  df_tweets[\"followers_count\"][index] = df_tweets[\"user\"][index][\"followers_count\"]\n",
    "  #df_tweets.loc[:, (\"followers_count\", index)] = df_tweets.loc[:, (\"user\", index, \"followers_count\")]"
   ]
  },
  {
   "cell_type": "code",
   "execution_count": 126,
   "metadata": {},
   "outputs": [
    {
     "data": {
      "image/png": "[encoded data removed]",
      "text/plain": [
       "<Figure size 720x576 with 1 Axes>"
      ]
     },
     "metadata": {},
     "output_type": "display_data"
    }
   ],
   "source": [
    "labels = \"Positive\", \"Neutral\", \"Negative\"\n",
    "sizes = [df_tweets[\"sentiment\"][df_tweets[\"sentiment\"]==\"positive\"].count(), df_tweets[\"sentiment\"][df_tweets[\"sentiment\"]==\"neutral\"].count(), df_tweets[\"sentiment\"][df_tweets[\"sentiment\"]==\"negative\"].count()]\n",
    "fig1, ax1 = plt.subplots(figsize=(10, 8))\n",
    "ax1.pie(sizes, labels=labels, autopct='%1.1f%%',\n",
    "        shadow=False, startangle=90)\n",
    "ax1.axis('equal')\n",
    "plt.title(\"Proportion of sentiment\", size = 20)\n",
    "plt.show()"
   ]
  },
  {
   "cell_type": "code",
   "execution_count": 127,
   "metadata": {},
   "outputs": [
    {
     "data": {
      "text/plain": [
       "<AxesSubplot:xlabel='sentiment', ylabel='favorite_count'>"
      ]
     },
     "execution_count": 127,
     "metadata": {},
     "output_type": "execute_result"
    },
    {
     "data": {
      "image/png": "[encoded data removed]",
      "text/plain": [
       "<Figure size 1440x864 with 6 Axes>"
      ]
     },
     "metadata": {
      "needs_background": "light"
     },
     "output_type": "display_data"
    }
   ],
   "source": [
    "fig, axarr = plt.subplots(3, 2, figsize=(20, 12))\n",
    "sns.boxplot(y='followers_count',x = 'sentiment', hue = 'sentiment',data = df_tweets, ax=axarr[0][0])\n",
    "sns.boxplot(y='contributors',x = 'sentiment', hue = 'sentiment',data = df_tweets, ax=axarr[0][1])\n",
    "sns.boxplot(y='retweet_count',x = 'sentiment', hue = 'sentiment',data = df_tweets, ax=axarr[1][0])\n",
    "sns.boxplot(y='reply_count',x = 'sentiment', hue = 'sentiment',data = df_tweets, ax=axarr[1][1])\n",
    "sns.boxplot(y='favorite_count',x = 'sentiment', hue = 'sentiment',data = df_tweets, ax=axarr[1][1])"
   ]
  },
  {
   "cell_type": "code",
   "execution_count": 128,
   "metadata": {},
   "outputs": [
    {
     "data": {
      "text/plain": [
       "<AxesSubplot:xlabel='possibly_sensitive', ylabel='count'>"
      ]
     },
     "execution_count": 128,
     "metadata": {},
     "output_type": "execute_result"
    },
    {
     "data": {
      "image/png": "[encoded data removed]",
      "text/plain": [
       "<Figure size 1440x864 with 4 Axes>"
      ]
     },
     "metadata": {
      "needs_background": "light"
     },
     "output_type": "display_data"
    }
   ],
   "source": [
    "fig, axarr = plt.subplots(2, 2, figsize=(20, 12))\n",
    "sns.countplot(x='lang', hue = 'sentiment',data = df_tweets, ax=axarr[0][0])\n",
    "sns.countplot(x='possibly_sensitive', hue = 'sentiment',data = df_tweets, ax=axarr[0][1])"
   ]
  },
  {
   "cell_type": "raw",
   "metadata": {},
   "source": [
    "text_clf = Pipeline([('vect', CountVectorizer()),\n",
    "                     ('tfidf', TfidfTransformer()),\n",
    "                     ('clf', MultinomialNB())])\n",
    "tuned_parameters = {\n",
    "    'vect__ngram_range': [(1, 1), (1, 2), (2, 2)],\n",
    "    'tfidf__use_idf': (True, False),\n",
    "    'tfidf__norm': ('l1', 'l2'),\n",
    "    'clf__alpha': [1, 1e-1, 1e-2]\n",
    "}"
   ]
  },
  {
   "cell_type": "raw",
   "metadata": {},
   "source": [
    "from sklearn.metrics import classification_report\n",
    "#model = GridSearchCV(text_clf, tuned_parameters, cv=10)\n",
    "\n",
    "model = GridSearchCV(text_clf, cv=10)\n",
    "model.fit(x_train, y_train)\n",
    "\n",
    "print(classification_report(y_test, model.predict(x_test), digits=4))"
   ]
  },
  {
   "cell_type": "code",
   "execution_count": 129,
   "metadata": {},
   "outputs": [
    {
     "name": "stdout",
     "output_type": "stream",
     "text": [
      "created_at\n",
      "id\n",
      "id_str\n",
      "text\n",
      "source\n",
      "truncated\n",
      "in_reply_to_status_id\n",
      "in_reply_to_status_id_str\n",
      "in_reply_to_user_id\n",
      "in_reply_to_user_id_str\n",
      "in_reply_to_screen_name\n",
      "user\n",
      "geo\n",
      "coordinates\n",
      "place\n",
      "contributors\n",
      "retweeted_status\n",
      "is_quote_status\n",
      "quote_count\n",
      "reply_count\n",
      "retweet_count\n",
      "favorite_count\n",
      "entities\n",
      "favorited\n",
      "retweeted\n",
      "filter_level\n",
      "lang\n",
      "timestamp_ms\n",
      "display_text_range\n",
      "extended_tweet\n",
      "possibly_sensitive\n",
      "quoted_status_id\n",
      "quoted_status_id_str\n",
      "quoted_status\n",
      "quoted_status_permalink\n",
      "extended_entities\n",
      "neg_prob\n",
      "pos_prob\n",
      "sentiment\n",
      "followers_count\n"
     ]
    }
   ],
   "source": [
    "for col in df_tweets.columns:\n",
    "    print(col)"
   ]
  },
  {
   "cell_type": "code",
   "execution_count": null,
   "metadata": {},
   "outputs": [],
   "source": []
  }
 ],
 "metadata": {
  "interpreter": {
   "hash": "7295993e32d24e8dce7ebe8f920260ff2c4372f74e989fec0a00983c75da9238"
  },
  "kernelspec": {
   "display_name": "Python 3.9.5 64-bit",
   "language": "python",
   "name": "python39564bitff34519784314f2190bd388727997e65"
  },
  "language_info": {
   "codemirror_mode": {
    "name": "ipython",
    "version": 3
   },
   "file_extension": ".py",
   "mimetype": "text/x-python",
   "name": "python",
   "nbconvert_exporter": "python",
   "pygments_lexer": "ipython3",
   "version": "3.9.5"
  }
 },
 "nbformat": 4,
 "nbformat_minor": 4
}
