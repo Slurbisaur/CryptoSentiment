{
 "metadata": {
  "language_info": {
   "codemirror_mode": {
    "name": "ipython",
    "version": 3
   },
   "file_extension": ".py",
   "mimetype": "text/x-python",
   "name": "python",
   "nbconvert_exporter": "python",
   "pygments_lexer": "ipython3",
   "version": "3.8.3"
  },
  "orig_nbformat": 4,
  "kernelspec": {
   "name": "python3",
   "display_name": "Python 3.8.3 64-bit"
  },
  "interpreter": {
   "hash": "9bc147aca853e6b83962adb96572aef9cc5fa7323d9545281d403a1902154e09"
  }
 },
 "nbformat": 4,
 "nbformat_minor": 2,
 "cells": [
  {
   "source": [
    "# Explorative Data Analysis"
   ],
   "cell_type": "markdown",
   "metadata": {}
  },
  {
   "source": [
    "## Imports"
   ],
   "cell_type": "markdown",
   "metadata": {}
  },
  {
   "cell_type": "code",
   "execution_count": 65,
   "metadata": {},
   "outputs": [
    {
     "output_type": "stream",
     "name": "stderr",
     "text": [
      "[nltk_data] Downloading package vader_lexicon to\n[nltk_data]     C:\\Users\\lucaf\\AppData\\Roaming\\nltk_data...\n[nltk_data]   Package vader_lexicon is already up-to-date!\n"
     ]
    }
   ],
   "source": [
    "import pandas as pd \n",
    "import numpy as np \n",
    "import seaborn as sns\n",
    "import json \n",
    "import sys\n",
    "import tweepy\n",
    "import matplotlib.pyplot as plt\n",
    "import pandas as pd\n",
    "import numpy as np\n",
    "import os\n",
    "import nltk\n",
    "import pycountry\n",
    "import re\n",
    "import string\n",
    "nltk.download('vader_lexicon')\n",
    "from nltk.corpus import twitter_samples\n",
    "from sklearn.pipeline import Pipeline\n",
    "from sklearn.pipeline import make_pipeline\n",
    "from sklearn.naive_bayes import MultinomialNB\n",
    "from sklearn.feature_extraction.text import CountVectorizer, TfidfTransformer,TfidfVectorizer\n",
    "from sklearn.model_selection import train_test_split, GridSearchCV"
   ]
  },
  {
   "source": [
    "## Data Preperation"
   ],
   "cell_type": "markdown",
   "metadata": {}
  },
  {
   "cell_type": "code",
   "execution_count": 66,
   "metadata": {},
   "outputs": [],
   "source": [
    "#reading the json of the data\n",
    "df = pd.read_json(\"./cryptodoge.json\", lines=True)"
   ]
  },
  {
   "cell_type": "code",
   "execution_count": 67,
   "metadata": {},
   "outputs": [
    {
     "output_type": "stream",
     "name": "stderr",
     "text": [
      "<ipython-input-67-bf84cfa9801d>:4: SettingWithCopyWarning: \n",
      "A value is trying to be set on a copy of a slice from a DataFrame\n",
      "\n",
      "See the caveats in the documentation: https://pandas.pydata.org/pandas-docs/stable/user_guide/indexing.html#returning-a-view-versus-a-copy\n",
      "  df[\"followers_count\"][index] = df[\"user\"][index][\"followers_count\"]\n",
      "<ipython-input-67-bf84cfa9801d>:8: SettingWithCopyWarning: \n",
      "A value is trying to be set on a copy of a slice from a DataFrame\n",
      "\n",
      "See the caveats in the documentation: https://pandas.pydata.org/pandas-docs/stable/user_guide/indexing.html#returning-a-view-versus-a-copy\n",
      "  df[\"location\"][index] = df[\"user\"][index][\"location\"]\n",
      "C:\\Users\\lucaf\\AppData\\Local\\Programs\\Python\\Python38\\lib\\site-packages\\pandas\\core\\indexing.py:670: SettingWithCopyWarning: \n",
      "A value is trying to be set on a copy of a slice from a DataFrame\n",
      "\n",
      "See the caveats in the documentation: https://pandas.pydata.org/pandas-docs/stable/user_guide/indexing.html#returning-a-view-versus-a-copy\n",
      "  iloc._setitem_with_indexer(indexer, value)\n",
      "<ipython-input-67-bf84cfa9801d>:12: SettingWithCopyWarning: \n",
      "A value is trying to be set on a copy of a slice from a DataFrame\n",
      "\n",
      "See the caveats in the documentation: https://pandas.pydata.org/pandas-docs/stable/user_guide/indexing.html#returning-a-view-versus-a-copy\n",
      "  df[\"verified\"][index] = df[\"user\"][index][\"verified\"]\n",
      "<ipython-input-67-bf84cfa9801d>:16: SettingWithCopyWarning: \n",
      "A value is trying to be set on a copy of a slice from a DataFrame\n",
      "\n",
      "See the caveats in the documentation: https://pandas.pydata.org/pandas-docs/stable/user_guide/indexing.html#returning-a-view-versus-a-copy\n",
      "  df[\"friends_count\"][index] = df[\"user\"][index][\"friends_count\"]\n"
     ]
    }
   ],
   "source": [
    "#extracting followers_count from user column\n",
    "df[\"followers_count\"] = 0\n",
    "for index, row in df.iterrows():\n",
    "  df[\"followers_count\"][index] = df[\"user\"][index][\"followers_count\"]\n",
    "#extracting location from user column\n",
    "df[\"location\"] = 0\n",
    "for index, row in df.iterrows():\n",
    "  df[\"location\"][index] = df[\"user\"][index][\"location\"]  \n",
    "#extracting verified from user column\n",
    "df[\"verified\"] = 0\n",
    "for index, row in df.iterrows():\n",
    "  df[\"verified\"][index] = df[\"user\"][index][\"verified\"]  \n",
    "#extracting friends_count from user column\n",
    "df[\"friends_count\"] = 0\n",
    "for index, row in df.iterrows():\n",
    "  df[\"friends_count\"][index] = df[\"user\"][index][\"friends_count\"]    "
   ]
  },
  {
   "cell_type": "code",
   "execution_count": 68,
   "metadata": {},
   "outputs": [
    {
     "output_type": "execute_result",
     "data": {
      "text/plain": [
       "                                                   text  quote_count  \\\n",
       "0     RT @dailytice: 🎁 $100 IN BABYDOGE GIVEAWAY ALE...            0   \n",
       "1     RT @CoinMarketCap: Bitcoin 'Could Collapse' El...            0   \n",
       "2     @MattWallace888 Amen brother!\\n#dogecoin \\n#To...            0   \n",
       "3     @BitcoinAssn The most powerful DOGE of them al...            0   \n",
       "4     RT @RakuCoin: Rakucoin $RAKUC currently on ETH...            0   \n",
       "...                                                 ...          ...   \n",
       "1002  RT @JubaJeeves: I went back to microwaving hot...            0   \n",
       "1003  RT @RakuCoin: Rakucoin $RAKUC currently on ETH...            0   \n",
       "1004  RT @flurbnb: $120 to one person in 24 hours\\n\\...            0   \n",
       "1005  @BinanceAcademy The most powerful DOGE of them...            0   \n",
       "1006  RT @DogecoinRise: #HappyBirthdayElon Thank You...            0   \n",
       "\n",
       "      reply_count  retweet_count  favorite_count lang  followers_count  \\\n",
       "0               0              0               0   en                3   \n",
       "1               0              0               0   en               19   \n",
       "2               0              0               0   en               74   \n",
       "3               0              0               0   en                0   \n",
       "4               0              0               0   en               85   \n",
       "...           ...            ...             ...  ...              ...   \n",
       "1002            0              0               0   en              147   \n",
       "1003            0              0               0   en              131   \n",
       "1004            0              0               0   en             2413   \n",
       "1005            0              0               0   en                0   \n",
       "1006            0              0               0   en               22   \n",
       "\n",
       "     verified  friends_count  \n",
       "0       False             65  \n",
       "1       False            157  \n",
       "2       False            159  \n",
       "3       False              1  \n",
       "4       False           4913  \n",
       "...       ...            ...  \n",
       "1002    False            194  \n",
       "1003    False            348  \n",
       "1004    False           4943  \n",
       "1005    False              1  \n",
       "1006    False            155  \n",
       "\n",
       "[1007 rows x 9 columns]"
      ],
      "text/html": "<div>\n<style scoped>\n    .dataframe tbody tr th:only-of-type {\n        vertical-align: middle;\n    }\n\n    .dataframe tbody tr th {\n        vertical-align: top;\n    }\n\n    .dataframe thead th {\n        text-align: right;\n    }\n</style>\n<table border=\"1\" class=\"dataframe\">\n  <thead>\n    <tr style=\"text-align: right;\">\n      <th></th>\n      <th>text</th>\n      <th>quote_count</th>\n      <th>reply_count</th>\n      <th>retweet_count</th>\n      <th>favorite_count</th>\n      <th>lang</th>\n      <th>followers_count</th>\n      <th>verified</th>\n      <th>friends_count</th>\n    </tr>\n  </thead>\n  <tbody>\n    <tr>\n      <th>0</th>\n      <td>RT @dailytice: 🎁 $100 IN BABYDOGE GIVEAWAY ALE...</td>\n      <td>0</td>\n      <td>0</td>\n      <td>0</td>\n      <td>0</td>\n      <td>en</td>\n      <td>3</td>\n      <td>False</td>\n      <td>65</td>\n    </tr>\n    <tr>\n      <th>1</th>\n      <td>RT @CoinMarketCap: Bitcoin 'Could Collapse' El...</td>\n      <td>0</td>\n      <td>0</td>\n      <td>0</td>\n      <td>0</td>\n      <td>en</td>\n      <td>19</td>\n      <td>False</td>\n      <td>157</td>\n    </tr>\n    <tr>\n      <th>2</th>\n      <td>@MattWallace888 Amen brother!\\n#dogecoin \\n#To...</td>\n      <td>0</td>\n      <td>0</td>\n      <td>0</td>\n      <td>0</td>\n      <td>en</td>\n      <td>74</td>\n      <td>False</td>\n      <td>159</td>\n    </tr>\n    <tr>\n      <th>3</th>\n      <td>@BitcoinAssn The most powerful DOGE of them al...</td>\n      <td>0</td>\n      <td>0</td>\n      <td>0</td>\n      <td>0</td>\n      <td>en</td>\n      <td>0</td>\n      <td>False</td>\n      <td>1</td>\n    </tr>\n    <tr>\n      <th>4</th>\n      <td>RT @RakuCoin: Rakucoin $RAKUC currently on ETH...</td>\n      <td>0</td>\n      <td>0</td>\n      <td>0</td>\n      <td>0</td>\n      <td>en</td>\n      <td>85</td>\n      <td>False</td>\n      <td>4913</td>\n    </tr>\n    <tr>\n      <th>...</th>\n      <td>...</td>\n      <td>...</td>\n      <td>...</td>\n      <td>...</td>\n      <td>...</td>\n      <td>...</td>\n      <td>...</td>\n      <td>...</td>\n      <td>...</td>\n    </tr>\n    <tr>\n      <th>1002</th>\n      <td>RT @JubaJeeves: I went back to microwaving hot...</td>\n      <td>0</td>\n      <td>0</td>\n      <td>0</td>\n      <td>0</td>\n      <td>en</td>\n      <td>147</td>\n      <td>False</td>\n      <td>194</td>\n    </tr>\n    <tr>\n      <th>1003</th>\n      <td>RT @RakuCoin: Rakucoin $RAKUC currently on ETH...</td>\n      <td>0</td>\n      <td>0</td>\n      <td>0</td>\n      <td>0</td>\n      <td>en</td>\n      <td>131</td>\n      <td>False</td>\n      <td>348</td>\n    </tr>\n    <tr>\n      <th>1004</th>\n      <td>RT @flurbnb: $120 to one person in 24 hours\\n\\...</td>\n      <td>0</td>\n      <td>0</td>\n      <td>0</td>\n      <td>0</td>\n      <td>en</td>\n      <td>2413</td>\n      <td>False</td>\n      <td>4943</td>\n    </tr>\n    <tr>\n      <th>1005</th>\n      <td>@BinanceAcademy The most powerful DOGE of them...</td>\n      <td>0</td>\n      <td>0</td>\n      <td>0</td>\n      <td>0</td>\n      <td>en</td>\n      <td>0</td>\n      <td>False</td>\n      <td>1</td>\n    </tr>\n    <tr>\n      <th>1006</th>\n      <td>RT @DogecoinRise: #HappyBirthdayElon Thank You...</td>\n      <td>0</td>\n      <td>0</td>\n      <td>0</td>\n      <td>0</td>\n      <td>en</td>\n      <td>22</td>\n      <td>False</td>\n      <td>155</td>\n    </tr>\n  </tbody>\n</table>\n<p>1007 rows × 9 columns</p>\n</div>"
     },
     "metadata": {},
     "execution_count": 68
    }
   ],
   "source": [
    "#dropping unneeded columns\r\n",
    "df.drop([\"created_at\", \"id\", \"id_str\", \"source\", \"truncated\", \"in_reply_to_status_id\", \"in_reply_to_status_id_str\", \"in_reply_to_user_id_str\", \"in_reply_to_user_id\", \"in_reply_to_screen_name\", \"coordinates\", \"place\", \"quoted_status_id\", \"quoted_status_id_str\", \"is_quote_status\", \"quoted_status\", \"retweeted_status\", \"entities\", \"extended_entities\", \"favorited\", \"retweeted\", \"possibly_sensitive\", \"filter_level\", \"contributors\", \"geo\", \"user\", \"extended_tweet\", \"quoted_status_permalink\", \"location\", \"timestamp_ms\", \"display_text_range\"], axis=1)"
   ]
  },
  {
   "cell_type": "code",
   "execution_count": 69,
   "metadata": {},
   "outputs": [],
   "source": [
    "df_tweets = df"
   ]
  },
  {
   "cell_type": "code",
   "execution_count": 70,
   "metadata": {},
   "outputs": [],
   "source": [
    "pos_twee = twitter_samples.strings('positive_tweets.json')\n",
    "neg_twee = twitter_samples.strings('negative_tweets.json')\n",
    "text = twitter_samples.strings('tweets.20150430-223406.json')\n",
    "\n",
    "df = pd.DataFrame (pos_twee,columns=['text'])\n",
    "df['Value'] = 1\n",
    "df2 = pd.DataFrame (neg_twee,columns=['text'])\n",
    "df2['Value'] = -1\n",
    "\n",
    "df=df.append(df2, ignore_index = True)\n",
    "df = df.sample(frac=1).reset_index(drop=True) #shuffle neg and pos tweets \n",
    "#cleansing tweet\n",
    "remove_rt = lambda x: re.sub(\"(RT @\\w+: )|(@\\w+):\",\" \",x)\n",
    "rt = lambda x: re.sub(\"(@[A-Za-z0–9]+)|(\\w+:\\/\\/\\S+)|(\\n|\\t|\\')\",\" \",x)\n",
    "\n",
    "\n",
    "df[\"text\"] = df.text.map(remove_rt).map(rt)\n",
    "df[\"text\"] = df.text.str.lower()\n",
    "df.text.head(10)\n",
    "\n",
    "#removing emoji characters\n",
    "def deEmojify(text):\n",
    "    regrex_pattern = re.compile(\"[\"\n",
    "                           u\"\\U0001F600-\\U0001F64F\"  # emoticons\n",
    "                           u\"\\U0001F300-\\U0001F5FF\"  # symbols & pictographs\n",
    "                           u\"\\U0001F680-\\U0001F6FF\"  # transport & map symbols\n",
    "                           u\"\\U0001F1E0-\\U0001F1FF\"  # flags (iOS)\n",
    "                           u\"\\U00002702-\\U000027B0\"\n",
    "                           u\"\\U000024C2-\\U0001F251\"\n",
    "                           \"]+\", flags=re.UNICODE)\n",
    "    return regrex_pattern.sub(r'',text)\n",
    "\n",
    "df[\"text\"] = df.text.map(deEmojify)\n",
    "\n",
    "data = list(df[\"text\"])\n",
    "labels = list(df[\"Value\"])\n",
    "x_train, x_test, y_train, y_test = train_test_split(data, labels, test_size=0.33, random_state=42)\n",
    "\n",
    "vectorizer = TfidfVectorizer()\n",
    "vectors = vectorizer.fit_transform(data)\n",
    "vectors_train = vectorizer.transform(x_train)\n",
    "vectors_test = vectorizer.transform(x_test)\n",
    "model = MultinomialNB(alpha=.01)\n",
    "model = model.fit(vectors_train, y_train)\n",
    "\n"
   ]
  },
  {
   "cell_type": "code",
   "execution_count": null,
   "metadata": {},
   "outputs": [],
   "source": [
    "#bereinigen der Tweets\r\n",
    "remove_rt = lambda x: re.sub(\"(RT @\\w+: )|(@\\w+):\",\" \",x) #herausfiltern der usernamen und RT\r\n",
    "rt = lambda x: re.sub(\"(@[A-Za-z0–9]+)|[\\d\\.]|(\\w+:\\/\\/\\S+)|(\\n|\\t|\\')\",\" \",x) #herausfiltern markierter Usernamen \r\n",
    "htp = lambda x: re.sub('http[s]?://(?:[a-zA-Z]|[0-9]|[$-_@.&+#]|[!*\\(\\),]|(?:%[0-9a-fA-F][0-9a-fA-F]))+',\" \",x) #entfernen von links, sonderzeichen, punkten\r\n",
    "\r\n",
    "df_tweets[\"text\"] = df.text.map(remove_rt).map(rt).map(htp)\r\n",
    "df_tweets[\"text\"] = df.text.str.lower()\r\n",
    "df_tweets.text.head(10)\r\n",
    "\r\n",
    "#bereinigen des textes von den Emojis\r\n",
    "def deEmojify(text):\r\n",
    "    regrex_pattern = re.compile(\"[\"\r\n",
    "                           u\"\\U0001F600-\\U0001F64F\"  # emoticons\r\n",
    "                           u\"\\U0001F300-\\U0001F5FF\"  # symbols & pictographs\r\n",
    "                           u\"\\U0001F680-\\U0001F6FF\"  # transport & map symbols\r\n",
    "                           u\"\\U0001F1E0-\\U0001F1FF\"  # flags (iOS)\r\n",
    "                           u\"\\U00002702-\\U000027B0\"\r\n",
    "                           u\"\\U000024C2-\\U0001F251\"\r\n",
    "                           \"]+\", flags=re.UNICODE)\r\n",
    "    return regrex_pattern.sub(r'',text)\r\n",
    "\r\n",
    "df_tweets[\"text\"] = df_tweets.text.map(deEmojify)"
   ]
  }
 ]
}